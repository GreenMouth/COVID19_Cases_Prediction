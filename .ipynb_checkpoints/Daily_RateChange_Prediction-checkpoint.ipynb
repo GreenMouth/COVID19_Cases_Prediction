{
 "cells": [
  {
   "cell_type": "code",
   "execution_count": 1,
   "metadata": {},
   "outputs": [],
   "source": [
    "# Author: Prashant Shinde\n",
    "# Date: May 1st, 2020\n",
    "# Goal: Predict # of COVID 19 'confirmed' case per day within USA"
   ]
  },
  {
   "cell_type": "code",
   "execution_count": 2,
   "metadata": {},
   "outputs": [],
   "source": [
    "import pandas as pd \n",
    "import numpy as np \n",
    "\n",
    "import matplotlib.pyplot as plt \n",
    "import matplotlib.colors as mcolors\n",
    "plt.style.use('fivethirtyeight')\n",
    "%matplotlib inline \n",
    "import itertools\n",
    "\n",
    "# feature engineering\n",
    "from sklearn.model_selection import RandomizedSearchCV, train_test_split\n",
    "from sklearn.preprocessing import PolynomialFeatures\n",
    "\n",
    "# model\n",
    "from sklearn.linear_model import LinearRegression, BayesianRidge\n",
    "from sklearn.svm import SVR\n",
    "\n",
    "# model performance\n",
    "from sklearn.metrics import mean_squared_error, mean_absolute_error\n",
    "import sklearn.metrics as metrics\n"
   ]
  },
  {
   "cell_type": "code",
   "execution_count": 3,
   "metadata": {},
   "outputs": [
    {
     "name": "stdout",
     "output_type": "stream",
     "text": [
      "Today is 101th day since COVID19 started in USA\n",
      "Today's date: 2020-05-01\n",
      "COVID19 Data is till 4/30/20 date\n"
     ]
    },
    {
     "data": {
      "text/html": [
       "<div>\n",
       "<style scoped>\n",
       "    .dataframe tbody tr th:only-of-type {\n",
       "        vertical-align: middle;\n",
       "    }\n",
       "\n",
       "    .dataframe tbody tr th {\n",
       "        vertical-align: top;\n",
       "    }\n",
       "\n",
       "    .dataframe thead th {\n",
       "        text-align: right;\n",
       "    }\n",
       "</style>\n",
       "<table border=\"1\" class=\"dataframe\">\n",
       "  <thead>\n",
       "    <tr style=\"text-align: right;\">\n",
       "      <th></th>\n",
       "      <th>Days_Since_Started</th>\n",
       "      <th>Date</th>\n",
       "      <th>Cases</th>\n",
       "    </tr>\n",
       "  </thead>\n",
       "  <tbody>\n",
       "    <tr>\n",
       "      <th>95</th>\n",
       "      <td>96</td>\n",
       "      <td>4/26/20</td>\n",
       "      <td>965785</td>\n",
       "    </tr>\n",
       "    <tr>\n",
       "      <th>96</th>\n",
       "      <td>97</td>\n",
       "      <td>4/27/20</td>\n",
       "      <td>988197</td>\n",
       "    </tr>\n",
       "    <tr>\n",
       "      <th>97</th>\n",
       "      <td>98</td>\n",
       "      <td>4/28/20</td>\n",
       "      <td>1012582</td>\n",
       "    </tr>\n",
       "    <tr>\n",
       "      <th>98</th>\n",
       "      <td>99</td>\n",
       "      <td>4/29/20</td>\n",
       "      <td>1039909</td>\n",
       "    </tr>\n",
       "    <tr>\n",
       "      <th>99</th>\n",
       "      <td>100</td>\n",
       "      <td>4/30/20</td>\n",
       "      <td>1069424</td>\n",
       "    </tr>\n",
       "  </tbody>\n",
       "</table>\n",
       "</div>"
      ],
      "text/plain": [
       "    Days_Since_Started     Date    Cases\n",
       "95                  96  4/26/20   965785\n",
       "96                  97  4/27/20   988197\n",
       "97                  98  4/28/20  1012582\n",
       "98                  99  4/29/20  1039909\n",
       "99                 100  4/30/20  1069424"
      ]
     },
     "execution_count": 3,
     "metadata": {},
     "output_type": "execute_result"
    }
   ],
   "source": [
    "# Read Data from \n",
    "confirmed_df = pd.read_csv('https://raw.githubusercontent.com/CSSEGISandData/COVID-19/master/csse_covid_19_data/csse_covid_19_time_series/time_series_covid19_confirmed_global.csv')\n",
    "#print('Shape is:', confirmed_df.shape)\n",
    "\n",
    "# Data is of all countries\n",
    "#confirmed_df['Country/Region'].unique()\n",
    "\n",
    "# Select United States data\n",
    "confirmed_df_usa = confirmed_df[confirmed_df['Country/Region'] == 'US']\n",
    "confirmed_df_usa = confirmed_df_usa.reset_index(drop = True)\n",
    "#print('confirmed_df_usa Shape:',confirmed_df_usa.shape )\n",
    "\n",
    "# Drop unnecessary columns, Transpose df, rename columns\n",
    "confirmed_df_usa = confirmed_df_usa.drop(['Province/State', 'Country/Region', 'Lat', 'Long'], axis = 1)\n",
    "confirmed_df_usa = confirmed_df_usa.T\n",
    "confirmed_df_usa = confirmed_df_usa.reset_index()\n",
    "confirmed_df_usa = confirmed_df_usa.reset_index()\n",
    "confirmed_df_usa = confirmed_df_usa.rename(columns = {'index':'Date',\n",
    "                                                     0: 'Cases',\n",
    "                                                     'level_0': 'Days_Since_Started'})\n",
    "\n",
    "confirmed_df_usa['Days_Since_Started'] = confirmed_df_usa['Days_Since_Started'] + 1\n",
    "#confirmed_df_usa = confirmed_df_usa[:-1]\n",
    "print('Today is {}th day since COVID19 started in USA'.format(confirmed_df_usa.shape[0] + 1))\n",
    "\n",
    "# About data freshness\n",
    "from datetime import date\n",
    "today = date.today()\n",
    "print(\"Today's date:\", today)\n",
    "print('COVID19 Data is till {} date'.format(confirmed_df_usa['Date'].iloc[-1]))\n",
    "confirmed_df_usa.tail()\n"
   ]
  },
  {
   "cell_type": "code",
   "execution_count": 4,
   "metadata": {},
   "outputs": [
    {
     "data": {
      "text/html": [
       "<div>\n",
       "<style scoped>\n",
       "    .dataframe tbody tr th:only-of-type {\n",
       "        vertical-align: middle;\n",
       "    }\n",
       "\n",
       "    .dataframe tbody tr th {\n",
       "        vertical-align: top;\n",
       "    }\n",
       "\n",
       "    .dataframe thead th {\n",
       "        text-align: right;\n",
       "    }\n",
       "</style>\n",
       "<table border=\"1\" class=\"dataframe\">\n",
       "  <thead>\n",
       "    <tr style=\"text-align: right;\">\n",
       "      <th></th>\n",
       "      <th>Days_Since_Started</th>\n",
       "      <th>Cases</th>\n",
       "    </tr>\n",
       "  </thead>\n",
       "  <tbody>\n",
       "    <tr>\n",
       "      <th>count</th>\n",
       "      <td>100.000000</td>\n",
       "      <td>1.000000e+02</td>\n",
       "    </tr>\n",
       "    <tr>\n",
       "      <th>mean</th>\n",
       "      <td>50.500000</td>\n",
       "      <td>2.060621e+05</td>\n",
       "    </tr>\n",
       "    <tr>\n",
       "      <th>std</th>\n",
       "      <td>29.011492</td>\n",
       "      <td>3.263527e+05</td>\n",
       "    </tr>\n",
       "    <tr>\n",
       "      <th>min</th>\n",
       "      <td>1.000000</td>\n",
       "      <td>1.000000e+00</td>\n",
       "    </tr>\n",
       "    <tr>\n",
       "      <th>25%</th>\n",
       "      <td>25.750000</td>\n",
       "      <td>1.300000e+01</td>\n",
       "    </tr>\n",
       "    <tr>\n",
       "      <th>50%</th>\n",
       "      <td>50.500000</td>\n",
       "      <td>1.472000e+03</td>\n",
       "    </tr>\n",
       "    <tr>\n",
       "      <th>75%</th>\n",
       "      <td>75.250000</td>\n",
       "      <td>3.441808e+05</td>\n",
       "    </tr>\n",
       "    <tr>\n",
       "      <th>max</th>\n",
       "      <td>100.000000</td>\n",
       "      <td>1.069424e+06</td>\n",
       "    </tr>\n",
       "  </tbody>\n",
       "</table>\n",
       "</div>"
      ],
      "text/plain": [
       "       Days_Since_Started         Cases\n",
       "count          100.000000  1.000000e+02\n",
       "mean            50.500000  2.060621e+05\n",
       "std             29.011492  3.263527e+05\n",
       "min              1.000000  1.000000e+00\n",
       "25%             25.750000  1.300000e+01\n",
       "50%             50.500000  1.472000e+03\n",
       "75%             75.250000  3.441808e+05\n",
       "max            100.000000  1.069424e+06"
      ]
     },
     "execution_count": 4,
     "metadata": {},
     "output_type": "execute_result"
    }
   ],
   "source": [
    "# Get summary Statistics\n",
    "confirmed_df_usa.describe()"
   ]
  },
  {
   "cell_type": "code",
   "execution_count": 5,
   "metadata": {},
   "outputs": [],
   "source": [
    "# Datatype handling\n",
    "import datetime as dt\n",
    "confirmed_df_usa['Date'] = pd.to_datetime(confirmed_df_usa['Date'])\n",
    "\n",
    "# Get Month\n",
    "confirmed_df_usa['Month'] = confirmed_df_usa['Date'].dt.month"
   ]
  },
  {
   "cell_type": "code",
   "execution_count": 6,
   "metadata": {},
   "outputs": [
    {
     "data": {
      "image/png": "[encoded data removed]",
      "text/plain": [
       "<Figure size 432x288 with 1 Axes>"
      ]
     },
     "metadata": {
      "needs_background": "light"
     },
     "output_type": "display_data"
    }
   ],
   "source": [
    "# Plot\n",
    "plt.plot(confirmed_df_usa['Date'], confirmed_df_usa['Cases'], 'r' )\n",
    "plt.title('COVID19 Cases by Day in USA')\n",
    "plt.xlabel(\"Date\") \n",
    "plt.ylabel('COVID Cases')\n",
    "plt.show()\n"
   ]
  },
  {
   "cell_type": "code",
   "execution_count": 7,
   "metadata": {},
   "outputs": [
    {
     "data": {
      "text/plain": [
       "Text(0, 0.5, '# of Cases')"
      ]
     },
     "execution_count": 7,
     "metadata": {},
     "output_type": "execute_result"
    },
    {
     "data": {
      "image/png": "[encoded data removed]",
      "text/plain": [
       "<Figure size 576x576 with 1 Axes>"
      ]
     },
     "metadata": {
      "needs_background": "light"
     },
     "output_type": "display_data"
    }
   ],
   "source": [
    "# Daily Cases\n",
    "confirmed_df_usa.groupby('Month')['Cases'].plot.bar(fontsize=10,\n",
    "                                                    figsize=(8,8))\n",
    "plt.title('Daily Confirmed Cases', size=8)\n",
    "plt.xlabel('# Days Since 1/22/2020', size=8)\n",
    "plt.ylabel('# of Cases', size=8)"
   ]
  },
  {
   "cell_type": "code",
   "execution_count": 8,
   "metadata": {},
   "outputs": [
    {
     "data": {
      "text/html": [
       "<div>\n",
       "<style scoped>\n",
       "    .dataframe tbody tr th:only-of-type {\n",
       "        vertical-align: middle;\n",
       "    }\n",
       "\n",
       "    .dataframe tbody tr th {\n",
       "        vertical-align: top;\n",
       "    }\n",
       "\n",
       "    .dataframe thead th {\n",
       "        text-align: right;\n",
       "    }\n",
       "</style>\n",
       "<table border=\"1\" class=\"dataframe\">\n",
       "  <thead>\n",
       "    <tr style=\"text-align: right;\">\n",
       "      <th></th>\n",
       "      <th>Days_Since_Started</th>\n",
       "      <th>Cases</th>\n",
       "      <th>Month</th>\n",
       "    </tr>\n",
       "  </thead>\n",
       "  <tbody>\n",
       "    <tr>\n",
       "      <th>Days_Since_Started</th>\n",
       "      <td>1.000000</td>\n",
       "      <td>0.817812</td>\n",
       "      <td>0.953965</td>\n",
       "    </tr>\n",
       "    <tr>\n",
       "      <th>Cases</th>\n",
       "      <td>0.817812</td>\n",
       "      <td>1.000000</td>\n",
       "      <td>0.738887</td>\n",
       "    </tr>\n",
       "    <tr>\n",
       "      <th>Month</th>\n",
       "      <td>0.953965</td>\n",
       "      <td>0.738887</td>\n",
       "      <td>1.000000</td>\n",
       "    </tr>\n",
       "  </tbody>\n",
       "</table>\n",
       "</div>"
      ],
      "text/plain": [
       "                    Days_Since_Started     Cases     Month\n",
       "Days_Since_Started            1.000000  0.817812  0.953965\n",
       "Cases                         0.817812  1.000000  0.738887\n",
       "Month                         0.953965  0.738887  1.000000"
      ]
     },
     "execution_count": 8,
     "metadata": {},
     "output_type": "execute_result"
    }
   ],
   "source": [
    "# Correlation between Cases & Days passed = +0.56\n",
    "confirmed_df_usa.corr()"
   ]
  },
  {
   "cell_type": "markdown",
   "metadata": {},
   "source": [
    "# Calculate Daily Rate Change"
   ]
  },
  {
   "cell_type": "code",
   "execution_count": 9,
   "metadata": {},
   "outputs": [
    {
     "data": {
      "text/html": [
       "<div>\n",
       "<style scoped>\n",
       "    .dataframe tbody tr th:only-of-type {\n",
       "        vertical-align: middle;\n",
       "    }\n",
       "\n",
       "    .dataframe tbody tr th {\n",
       "        vertical-align: top;\n",
       "    }\n",
       "\n",
       "    .dataframe thead th {\n",
       "        text-align: right;\n",
       "    }\n",
       "</style>\n",
       "<table border=\"1\" class=\"dataframe\">\n",
       "  <thead>\n",
       "    <tr style=\"text-align: right;\">\n",
       "      <th></th>\n",
       "      <th>Days_Since_Started</th>\n",
       "      <th>Date</th>\n",
       "      <th>Cases</th>\n",
       "      <th>Month</th>\n",
       "    </tr>\n",
       "  </thead>\n",
       "  <tbody>\n",
       "    <tr>\n",
       "      <th>0</th>\n",
       "      <td>1</td>\n",
       "      <td>2020-01-22</td>\n",
       "      <td>1</td>\n",
       "      <td>1</td>\n",
       "    </tr>\n",
       "    <tr>\n",
       "      <th>1</th>\n",
       "      <td>2</td>\n",
       "      <td>2020-01-23</td>\n",
       "      <td>1</td>\n",
       "      <td>1</td>\n",
       "    </tr>\n",
       "  </tbody>\n",
       "</table>\n",
       "</div>"
      ],
      "text/plain": [
       "   Days_Since_Started       Date  Cases  Month\n",
       "0                   1 2020-01-22      1      1\n",
       "1                   2 2020-01-23      1      1"
      ]
     },
     "execution_count": 9,
     "metadata": {},
     "output_type": "execute_result"
    }
   ],
   "source": [
    "confirmed_df_usa.head(2)"
   ]
  },
  {
   "cell_type": "code",
   "execution_count": 16,
   "metadata": {},
   "outputs": [
    {
     "name": "stdout",
     "output_type": "stream",
     "text": [
      "1\n"
     ]
    }
   ],
   "source": [
    "confirmed_df_usa['Cases_Pct_Change'] = confirmed_df_usa['Cases'].pct_change()\n",
    "print(confirmed_df_usa['Cases_Pct_Change'].isnull().sum())\n",
    "confirmed_df_usa['Cases_Pct_Change'] = confirmed_df_usa['Cases_Pct_Change'].fillna(0)\n",
    "confirmed_df_usa['Cases_Pct_Change'] = confirmed_df_usa['Cases_Pct_Change']*100\n",
    "confirmed_df_usa['Cases_Pct_Change'] = round(confirmed_df_usa['Cases_Pct_Change'], 2)"
   ]
  },
  {
   "cell_type": "code",
   "execution_count": 19,
   "metadata": {},
   "outputs": [
    {
     "data": {
      "text/html": [
       "<div>\n",
       "<style scoped>\n",
       "    .dataframe tbody tr th:only-of-type {\n",
       "        vertical-align: middle;\n",
       "    }\n",
       "\n",
       "    .dataframe tbody tr th {\n",
       "        vertical-align: top;\n",
       "    }\n",
       "\n",
       "    .dataframe thead th {\n",
       "        text-align: right;\n",
       "    }\n",
       "</style>\n",
       "<table border=\"1\" class=\"dataframe\">\n",
       "  <thead>\n",
       "    <tr style=\"text-align: right;\">\n",
       "      <th></th>\n",
       "      <th>Days_Since_Started</th>\n",
       "      <th>Date</th>\n",
       "      <th>Cases</th>\n",
       "      <th>Month</th>\n",
       "      <th>Cases_Pct_Change</th>\n",
       "    </tr>\n",
       "  </thead>\n",
       "  <tbody>\n",
       "    <tr>\n",
       "      <th>95</th>\n",
       "      <td>96</td>\n",
       "      <td>2020-04-26</td>\n",
       "      <td>965785</td>\n",
       "      <td>4</td>\n",
       "      <td>2.95</td>\n",
       "    </tr>\n",
       "    <tr>\n",
       "      <th>96</th>\n",
       "      <td>97</td>\n",
       "      <td>2020-04-27</td>\n",
       "      <td>988197</td>\n",
       "      <td>4</td>\n",
       "      <td>2.32</td>\n",
       "    </tr>\n",
       "    <tr>\n",
       "      <th>97</th>\n",
       "      <td>98</td>\n",
       "      <td>2020-04-28</td>\n",
       "      <td>1012582</td>\n",
       "      <td>4</td>\n",
       "      <td>2.47</td>\n",
       "    </tr>\n",
       "    <tr>\n",
       "      <th>98</th>\n",
       "      <td>99</td>\n",
       "      <td>2020-04-29</td>\n",
       "      <td>1039909</td>\n",
       "      <td>4</td>\n",
       "      <td>2.70</td>\n",
       "    </tr>\n",
       "    <tr>\n",
       "      <th>99</th>\n",
       "      <td>100</td>\n",
       "      <td>2020-04-30</td>\n",
       "      <td>1069424</td>\n",
       "      <td>4</td>\n",
       "      <td>2.84</td>\n",
       "    </tr>\n",
       "  </tbody>\n",
       "</table>\n",
       "</div>"
      ],
      "text/plain": [
       "    Days_Since_Started       Date    Cases  Month  Cases_Pct_Change\n",
       "95                  96 2020-04-26   965785      4              2.95\n",
       "96                  97 2020-04-27   988197      4              2.32\n",
       "97                  98 2020-04-28  1012582      4              2.47\n",
       "98                  99 2020-04-29  1039909      4              2.70\n",
       "99                 100 2020-04-30  1069424      4              2.84"
      ]
     },
     "execution_count": 19,
     "metadata": {},
     "output_type": "execute_result"
    }
   ],
   "source": [
    "confirmed_df_usa.tail(5)"
   ]
  },
  {
   "cell_type": "code",
   "execution_count": 25,
   "metadata": {},
   "outputs": [
    {
     "data": {
      "image/png": "[encoded data removed]",
      "text/plain": [
       "<Figure size 432x288 with 1 Axes>"
      ]
     },
     "metadata": {
      "needs_background": "light"
     },
     "output_type": "display_data"
    }
   ],
   "source": [
    "# Plot\n",
    "plt.plot(confirmed_df_usa['Days_Since_Started'], confirmed_df_usa['Cases_Pct_Change'], 'r' )\n",
    "plt.title('% Change in COVID19 cases over previous day in USA')\n",
    "plt.xlabel(\"Days_Since_Started\") \n",
    "plt.ylabel('% Change in Cases')\n",
    "plt.show()\n"
   ]
  },
  {
   "cell_type": "markdown",
   "metadata": {},
   "source": [
    "# Linear Regression"
   ]
  },
  {
   "cell_type": "code",
   "execution_count": 26,
   "metadata": {},
   "outputs": [
    {
     "name": "stdout",
     "output_type": "stream",
     "text": [
      "Shape of X_test is: (100, 1)\n"
     ]
    }
   ],
   "source": [
    "X = confirmed_df_usa[['Days_Since_Started']]\n",
    "Y = confirmed_df_usa[['Cases_Pct_Change']]\n",
    "print('Shape of X_test is:', X.shape)"
   ]
  },
  {
   "cell_type": "code",
   "execution_count": 27,
   "metadata": {},
   "outputs": [
    {
     "data": {
      "text/plain": [
       "([], <a list of 0 Text yticklabel objects>)"
      ]
     },
     "execution_count": 27,
     "metadata": {},
     "output_type": "execute_result"
    },
    {
     "data": {
      "image/png": "[encoded data removed]",
      "text/plain": [
       "<Figure size 432x288 with 1 Axes>"
      ]
     },
     "metadata": {},
     "output_type": "display_data"
    }
   ],
   "source": [
    "# Plot outputs\n",
    "plt.scatter(X, Y,  color='black')\n",
    "plt.title('Days vs COVID Cases')\n",
    "plt.xlabel('Days')\n",
    "plt.ylabel('COVID Cases')\n",
    "plt.xticks(())\n",
    "plt.yticks(())"
   ]
  },
  {
   "cell_type": "code",
   "execution_count": 28,
   "metadata": {},
   "outputs": [
    {
     "name": "stdout",
     "output_type": "stream",
     "text": [
      "Lets TRAIN on 98 examples\n",
      "Lets TEST on 2 examples\n"
     ]
    }
   ],
   "source": [
    "# Split the data into training/testing sets\n",
    "use_days = X.shape[0] - 2\n",
    "X_train = X[:use_days] \n",
    "X_test = X[use_days:]\n",
    "\n",
    "# Split the targets into training/testing sets\n",
    "Y_train = Y[-use_days:] \n",
    "Y_test = Y[:-use_days]\n",
    "\n",
    "print('Lets TRAIN on {}'.format(X_train.shape[0]),'examples')\n",
    "print('Lets TEST on {}'.format(X_test.shape[0]),'examples')"
   ]
  },
  {
   "cell_type": "code",
   "execution_count": 29,
   "metadata": {},
   "outputs": [
    {
     "name": "stdout",
     "output_type": "stream",
     "text": [
      "coefficient of determination: 0.0147714848548256\n",
      "intercept: [26.12487902]\n",
      "slope: [[-0.166858]]\n"
     ]
    },
    {
     "data": {
      "image/png": "[encoded data removed]",
      "text/plain": [
       "<Figure size 432x288 with 1 Axes>"
      ]
     },
     "metadata": {
      "needs_background": "light"
     },
     "output_type": "display_data"
    }
   ],
   "source": [
    "# Linear Model predicts COVID cases 'Linearly'\n",
    "\n",
    "# Create linear regression object & Train\n",
    "lin_model = LinearRegression().fit(X_train, Y_train)\n",
    "\n",
    "# Plot outputs \n",
    "plt.scatter(X,Y, color = 'red', label=\"Actual\") #Actual\n",
    "plt.scatter(X, lin_model.predict(X), color = 'black', label=\"predicted\") #Predicted\n",
    "plt.legend()\n",
    "\n",
    "# r_sq\n",
    "r_sq = lin_model.score(X, Y)\n",
    "print('coefficient of determination:', r_sq)\n",
    "\n",
    "print('intercept:', lin_model.intercept_)\n",
    "print('slope:', lin_model.coef_)\n",
    "\n",
    "# Linear Model Equation\n",
    "# COVID_Cases = -12863.1 + 651.3*Day"
   ]
  },
  {
   "cell_type": "markdown",
   "metadata": {},
   "source": [
    "# Non-Linear Regression Techniques"
   ]
  },
  {
   "cell_type": "code",
   "execution_count": 31,
   "metadata": {},
   "outputs": [
    {
     "name": "stdout",
     "output_type": "stream",
     "text": [
      "Train Model on 98 days data\n",
      "Test Model on 2 days data\n"
     ]
    }
   ],
   "source": [
    "# Create TRAIN & TEST split\n",
    "days_since_started = confirmed_df_usa[['Days_Since_Started']]\n",
    "usa_cases = confirmed_df_usa[['Cases_Pct_Change']]\n",
    "\n",
    "X_train, X_test, y_train, y_test = train_test_split(days_since_started, \n",
    "                                                    usa_cases, \n",
    "                                                    test_size=0.02, \n",
    "                                                    shuffle=False) \n",
    "\n",
    "print('Train Model on {} days data'.format(X_train.shape[0]))\n",
    "print('Test Model on {} days data'.format(X_test.shape[0]))\n"
   ]
  },
  {
   "cell_type": "code",
   "execution_count": 32,
   "metadata": {},
   "outputs": [
    {
     "name": "stdout",
     "output_type": "stream",
     "text": [
      "Total # Days in future_forcast_df is: 110\n",
      "Predict from 10 days: 101 to 110\n"
     ]
    }
   ],
   "source": [
    "# Define 'number of days in FUTURE' to predict\n",
    "days_in_future = 10\n",
    "future_forcast_df = np.array([i for i in range(len(confirmed_df_usa['Days_Since_Started'])+ days_in_future)]).reshape(-1, 1)\n",
    "print('Total # Days in future_forcast_df is:', len(future_forcast_df))\n",
    "print('Predict from 10 days:', len(future_forcast_df)-9, 'to', len(future_forcast_df))"
   ]
  },
  {
   "cell_type": "markdown",
   "metadata": {},
   "source": [
    "# 1) Polynomial Regression"
   ]
  },
  {
   "cell_type": "raw",
   "metadata": {},
   "source": [
    "# Note: Keep adjusting degree of polynomial when retrained because TREND keeps changing frequently\n",
    "Trend change reasons: \n",
    "1. Started as a Linear trend\n",
    "2. people went out -- virus spreaded more -- trend changed\n",
    "3. people stayed home -- virus spread reduced -- trend changed\n",
    "4. more and more people are taking precasutions - wearing face masks & hand gloves - trend changed\n",
    "5. New vaccines are coming out -- trend changed\n",
    "6. People are not going out to TEST but suddenly a lot of them came out for TESTING - trend changed\n",
    "7. Data issues: data reporting is not accurate as hospitals are busy handling patients - trend missed \n"
   ]
  },
  {
   "cell_type": "code",
   "execution_count": 33,
   "metadata": {},
   "outputs": [],
   "source": [
    "# Transform data for polynomial regression\n",
    "poly_features = PolynomialFeatures(degree=20)\n",
    "\n",
    "# Transfor TRAIN dataset\n",
    "poly_X_train = poly_features.fit_transform(X_train)\n",
    "\n",
    "# Transform TEST dataset\n",
    "poly_X_test = poly_features.fit_transform(X_test)\n",
    "\n",
    "# Transform FUTURE dataset\n",
    "poly_future_forcast = poly_features.fit_transform(future_forcast_df)"
   ]
  },
  {
   "cell_type": "code",
   "execution_count": 34,
   "metadata": {},
   "outputs": [],
   "source": [
    "# prediction % deviation from actual\n",
    "def mean_absolute_percentage_error(y_true, y_pred):\n",
    "    y_true, y_pred = np.array(y_true), np.array(y_pred)\n",
    "    return round(np.mean(np.abs((y_true - y_pred) / y_true)) * 100, 2)\n"
   ]
  },
  {
   "cell_type": "code",
   "execution_count": 35,
   "metadata": {},
   "outputs": [
    {
     "name": "stdout",
     "output_type": "stream",
     "text": [
      "Fitted Model Coefficients: [[ 7.88121049e+00  1.77029339e+01 -3.11937409e+00  2.08497675e-01\n",
      "  -7.05737403e-03  1.34536767e-04 -1.46778913e-06  8.55755665e-09\n",
      "  -2.06690479e-11]]\n",
      "TEST MAE: 9.23\n",
      "TEST MAPE:328.79%\n"
     ]
    }
   ],
   "source": [
    "# Polynomial Regression: Linear Regression with \"Polynomial features\"\n",
    "\n",
    "# Define LR object\n",
    "ploy_reg = LinearRegression(normalize=True, \n",
    "                                fit_intercept=False)\n",
    "\n",
    "# Train\n",
    "ploy_reg.fit(poly_X_train, y_train)\n",
    "print('Fitted Model Coefficients:', ploy_reg.coef_)\n",
    "\n",
    "# Predict X_test\n",
    "y_test_pred = ploy_reg.predict(poly_X_test)\n",
    "# Predict future 10 days COVID cases\n",
    "future_10_days_pred = ploy_reg.predict(poly_future_forcast)\n",
    "\n",
    "print('TEST MAE:', round(mean_absolute_error(y_test_pred, y_test),2))\n",
    "print('TEST MAPE:{}%'.format(mean_absolute_percentage_error(y_test, y_test_pred)))\n"
   ]
  },
  {
   "cell_type": "code",
   "execution_count": 37,
   "metadata": {},
   "outputs": [
    {
     "name": "stdout",
     "output_type": "stream",
     "text": [
      "Actual: 98    2.70\n",
      "99    2.84\n",
      "Name: Cases_Pct_Change, dtype: float64\n",
      "Predicted: [[ -1.36057608]\n",
      " [-11.56393469]]\n"
     ]
    }
   ],
   "source": [
    "# Predicted TEST vs Actual Cases\n",
    "print('Actual:', y_test['Cases_Pct_Change'])\n",
    "print('Predicted:', y_test_pred)\n",
    "\n",
    "# plt.plot(np.array(y_test))\n",
    "# plt.plot(y_test_pred)\n",
    "# plt.legend(['Test Data', 'Polynomial Regression Predictions'])"
   ]
  },
  {
   "cell_type": "code",
   "execution_count": 38,
   "metadata": {},
   "outputs": [
    {
     "name": "stdout",
     "output_type": "stream",
     "text": [
      "Results of sklearn.metrics:\n",
      "MAE: 13.835760594015397\n",
      "MSE: 839.9132057612552\n",
      "RMSE: 28.98125611082541\n",
      "R-Squared: 0.16296115808952782\n"
     ]
    },
    {
     "data": {
      "text/plain": [
       "<matplotlib.legend.Legend at 0x1a2855fdd0>"
      ]
     },
     "execution_count": 38,
     "metadata": {},
     "output_type": "execute_result"
    },
    {
     "data": {
      "image/png": "[encoded data removed]",
      "text/plain": [
       "<Figure size 432x288 with 1 Axes>"
      ]
     },
     "metadata": {
      "needs_background": "light"
     },
     "output_type": "display_data"
    }
   ],
   "source": [
    "# TRAIN Results\n",
    "y_train = y_train\n",
    "y_train_pred = ploy_reg.predict(poly_X_train)\n",
    "\n",
    "mae = metrics.mean_absolute_error(y_train, y_train_pred)\n",
    "mse = metrics.mean_squared_error(y_train, y_train_pred)\n",
    "rmse = np.sqrt(mse)  \n",
    "r2 = metrics.r2_score(y_train, y_train_pred)\n",
    "\n",
    "print(\"Results of sklearn.metrics:\")\n",
    "print(\"MAE:\",mae)\n",
    "print(\"MSE:\", mse)\n",
    "print(\"RMSE:\", rmse)\n",
    "print(\"R-Squared:\", r2)\n",
    "\n",
    "# Predicted TRAIN vs Actual Cases\n",
    "plt.plot(np.array(y_train))\n",
    "plt.plot(y_train_pred)\n",
    "plt.legend(['TRAIN Data', 'Poly Reg TRAIN Predictions'])"
   ]
  },
  {
   "cell_type": "code",
   "execution_count": null,
   "metadata": {},
   "outputs": [],
   "source": [
    "# Predictions for THESE 10 days\n",
    "datelist = pd.date_range(confirmed_df_usa['Date'].iloc[-1], periods=11).tolist()\n",
    "datelist = datelist[1:]\n",
    "datelist"
   ]
  },
  {
   "cell_type": "code",
   "execution_count": null,
   "metadata": {},
   "outputs": [],
   "source": [
    "# FUTURE Results\n",
    "y_train = y_train\n",
    "future_y_pred = ploy_reg.predict(poly_future_forcast)\n",
    "pred_10days =  np.around(future_y_pred[-10:], decimals=0)\n",
    "pred_10days = list(itertools.chain(*pred_10days))\n",
    "pred_10days = list(map(int, pred_10days))\n",
    "print('COVID19 cases prediciton for next 10 days (starting March 27th): \\n', pred_10days)\n",
    "\n",
    "# Predicted Future Cases\n",
    "plt.plot(np.array(y_train))\n",
    "plt.plot(future_y_pred)\n",
    "plt.legend(['Actual TRAIN Data', 'Future 10 Days Predictions'])"
   ]
  },
  {
   "cell_type": "code",
   "execution_count": null,
   "metadata": {},
   "outputs": [],
   "source": []
  },
  {
   "cell_type": "code",
   "execution_count": null,
   "metadata": {},
   "outputs": [],
   "source": [
    "# Get Standard Deviation of Prediction from TRAIN"
   ]
  },
  {
   "cell_type": "code",
   "execution_count": null,
   "metadata": {},
   "outputs": [],
   "source": [
    "# Make TRAIN predictions\n",
    "y_train_pred = ploy_reg.predict(poly_X_train)\n",
    "y_train_pred_arr = np.array(y_train_pred)\n",
    "y_train_pred_df = pd.DataFrame(data = y_train_pred_arr.flatten())\n",
    "y_train_pred_df.shape"
   ]
  },
  {
   "cell_type": "code",
   "execution_count": null,
   "metadata": {},
   "outputs": [],
   "source": [
    "# Generate Standard Deviation of predictions from training data\n",
    "pred_stdev = np.sqrt(sum((y_train_pred_df[0] - y_train['Cases'])**2) / (len(y_train) - 2))\n",
    "pred_stdev"
   ]
  },
  {
   "cell_type": "code",
   "execution_count": null,
   "metadata": {},
   "outputs": [],
   "source": [
    "# Make future prediciotn with CI"
   ]
  },
  {
   "cell_type": "code",
   "execution_count": null,
   "metadata": {},
   "outputs": [],
   "source": [
    "# Make FUTURE predictions\n",
    "future_pred = ploy_reg.predict(poly_future_forcast)\n",
    "future_pred_arr = np.array(future_pred)\n",
    "future_pred_df = pd.DataFrame(data = future_pred_arr.flatten())\n",
    "future_pred_df = future_pred_df.rename(columns = {0: 'Cases_Pred'})\n",
    "future_pred_df.shape"
   ]
  },
  {
   "cell_type": "code",
   "execution_count": null,
   "metadata": {},
   "outputs": [],
   "source": [
    "# Get UPPER & LOWER limit of CI \n",
    "future_pred_df['upper_ci'] = future_pred_df['Cases_Pred'] + 1.96*pred_stdev \n",
    "future_pred_df['lower_ci'] = future_pred_df['Cases_Pred'] - 1.96*pred_stdev\n",
    "future_pred_df.shape"
   ]
  },
  {
   "cell_type": "code",
   "execution_count": null,
   "metadata": {},
   "outputs": [],
   "source": [
    "# Replace -ve predictions with 0 cases\n",
    "future_pred_df['lower_ci'] = np.where(future_pred_df['lower_ci'] < 0, 0, future_pred_df['lower_ci'])\n",
    "future_pred_df['Cases_Pred'] = np.where(future_pred_df['Cases_Pred'] < 0, 0, future_pred_df['Cases_Pred'])\n",
    "\n",
    "# limit float to 2 decimals cases\n",
    "future_pred_df = future_pred_df.round(decimals = 0)\n",
    "future_pred_df = future_pred_df.astype(int)\n",
    "future_pred_df = future_pred_df[1:]\n",
    "future_pred_df = future_pred_df.reset_index(drop = True)\n"
   ]
  },
  {
   "cell_type": "code",
   "execution_count": null,
   "metadata": {},
   "outputs": [],
   "source": [
    "# Merge pred with original df \n",
    "final_df = confirmed_df_usa.merge(future_pred_df, \n",
    "                                  how='outer', \n",
    "                                  left_index=True, \n",
    "                                  right_index=True)\n",
    "\n",
    "#\n",
    "final_df = final_df.reset_index()\n",
    "final_df['Days_Since_Started'] = final_df['index'] + 1\n",
    "del final_df['index']\n",
    "del final_df['Month']\n",
    "del final_df['Date']\n",
    "\n",
    "# Generate date column\n",
    "date_list = pd.date_range(start='22/01/2020', periods = final_df.shape[0])\n",
    "date_list\n",
    "\n",
    "#\n",
    "final_df = final_df.set_index(date_list)\n",
    "final_df = final_df.reset_index()\n",
    "final_df = final_df.rename(columns =  {'index':'Date', \n",
    "                                      'Cases': 'Actual_Cases'})\n",
    "\n",
    "# Save predicitons \n",
    "final_df.to_csv('COVID_Predictions_USA.csv', encoding = 'UTF-8')\n",
    "\n",
    "#\n",
    "final_df.tail(18)"
   ]
  },
  {
   "cell_type": "code",
   "execution_count": null,
   "metadata": {},
   "outputs": [],
   "source": []
  },
  {
   "cell_type": "markdown",
   "metadata": {},
   "source": [
    "# PLOT"
   ]
  },
  {
   "cell_type": "code",
   "execution_count": null,
   "metadata": {},
   "outputs": [],
   "source": [
    "# Predicted TRAIN vs Actual Cases\n",
    "plt.plot(np.array(final_df['Actual_Cases']), 'r--')\n",
    "plt.plot(np.array(final_df['Cases_Pred']))\n",
    "plt.plot(np.array(final_df['upper_ci']))\n",
    "plt.plot(np.array(final_df['lower_ci']))\n",
    "\n",
    "plt.legend(['Actual_Cases', 'Cases_Pred', 'upper_ci', 'lower_ci' ])\n",
    "\n"
   ]
  },
  {
   "cell_type": "code",
   "execution_count": null,
   "metadata": {},
   "outputs": [],
   "source": [
    "# Daily Cases\n",
    "confirmed_df_usa.groupby('Month')['Cases'].plot.bar(fontsize=10,\n",
    "                                                    figsize=(8,8))\n",
    "plt.title('Daily Confirmed Cases', size=8)\n",
    "plt.xlabel('# Days Since 1/22/2020', size=8)\n",
    "plt.ylabel('# of Cases', size=8)"
   ]
  },
  {
   "cell_type": "code",
   "execution_count": null,
   "metadata": {},
   "outputs": [],
   "source": [
    "final_df[[\"Days_Since_Started\", 'Actual_Cases','Cases_Pred']].plot(x=\"Days_Since_Started\", \n",
    "                                                                   kind=\"bar\",\n",
    "                                                                   figsize=(10,10))\n"
   ]
  },
  {
   "cell_type": "code",
   "execution_count": null,
   "metadata": {},
   "outputs": [],
   "source": []
  },
  {
   "cell_type": "code",
   "execution_count": null,
   "metadata": {},
   "outputs": [],
   "source": []
  },
  {
   "cell_type": "code",
   "execution_count": null,
   "metadata": {},
   "outputs": [],
   "source": []
  },
  {
   "cell_type": "code",
   "execution_count": null,
   "metadata": {},
   "outputs": [],
   "source": []
  }
 ],
 "metadata": {
  "kernelspec": {
   "display_name": "Python 3",
   "language": "python",
   "name": "python3"
  },
  "language_info": {
   "codemirror_mode": {
    "name": "ipython",
    "version": 3
   },
   "file_extension": ".py",
   "mimetype": "text/x-python",
   "name": "python",
   "nbconvert_exporter": "python",
   "pygments_lexer": "ipython3",
   "version": "3.7.6"
  }
 },
 "nbformat": 4,
 "nbformat_minor": 4
}
