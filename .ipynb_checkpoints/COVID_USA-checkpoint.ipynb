{
 "cells": [
  {
   "cell_type": "code",
   "execution_count": 1,
   "metadata": {},
   "outputs": [],
   "source": [
    "# Author: Prashant Shinde\n",
    "# Date: March 28th, 2020\n",
    "# Update: May 1st, 2020\n",
    "# Goal: Predict # of COVID 19 'confirmed' case per day within USA"
   ]
  },
  {
   "cell_type": "code",
   "execution_count": 2,
   "metadata": {},
   "outputs": [],
   "source": [
    "import pandas as pd \n",
    "import numpy as np \n",
    "\n",
    "import matplotlib.pyplot as plt \n",
    "import matplotlib.colors as mcolors\n",
    "plt.style.use('fivethirtyeight')\n",
    "%matplotlib inline \n",
    "import itertools\n",
    "\n",
    "# feature engineering\n",
    "from sklearn.model_selection import RandomizedSearchCV, train_test_split\n",
    "from sklearn.preprocessing import PolynomialFeatures\n",
    "\n",
    "# model\n",
    "from sklearn.linear_model import LinearRegression, BayesianRidge\n",
    "from sklearn.svm import SVR\n",
    "\n",
    "# model performance\n",
    "from sklearn.metrics import mean_squared_error, mean_absolute_error\n",
    "import sklearn.metrics as metrics\n"
   ]
  },
  {
   "cell_type": "code",
   "execution_count": 3,
   "metadata": {},
   "outputs": [
    {
     "name": "stdout",
     "output_type": "stream",
     "text": [
      "Today is 101th day since COVID19 started in USA\n",
      "Today's date: 2020-05-01\n",
      "COVID19 Data is till 4/30/20 date\n"
     ]
    },
    {
     "data": {
      "text/html": [
       "<div>\n",
       "<style scoped>\n",
       "    .dataframe tbody tr th:only-of-type {\n",
       "        vertical-align: middle;\n",
       "    }\n",
       "\n",
       "    .dataframe tbody tr th {\n",
       "        vertical-align: top;\n",
       "    }\n",
       "\n",
       "    .dataframe thead th {\n",
       "        text-align: right;\n",
       "    }\n",
       "</style>\n",
       "<table border=\"1\" class=\"dataframe\">\n",
       "  <thead>\n",
       "    <tr style=\"text-align: right;\">\n",
       "      <th></th>\n",
       "      <th>Days_Since_Started</th>\n",
       "      <th>Date</th>\n",
       "      <th>Cases</th>\n",
       "    </tr>\n",
       "  </thead>\n",
       "  <tbody>\n",
       "    <tr>\n",
       "      <th>95</th>\n",
       "      <td>96</td>\n",
       "      <td>4/26/20</td>\n",
       "      <td>965785</td>\n",
       "    </tr>\n",
       "    <tr>\n",
       "      <th>96</th>\n",
       "      <td>97</td>\n",
       "      <td>4/27/20</td>\n",
       "      <td>988197</td>\n",
       "    </tr>\n",
       "    <tr>\n",
       "      <th>97</th>\n",
       "      <td>98</td>\n",
       "      <td>4/28/20</td>\n",
       "      <td>1012582</td>\n",
       "    </tr>\n",
       "    <tr>\n",
       "      <th>98</th>\n",
       "      <td>99</td>\n",
       "      <td>4/29/20</td>\n",
       "      <td>1039909</td>\n",
       "    </tr>\n",
       "    <tr>\n",
       "      <th>99</th>\n",
       "      <td>100</td>\n",
       "      <td>4/30/20</td>\n",
       "      <td>1069424</td>\n",
       "    </tr>\n",
       "  </tbody>\n",
       "</table>\n",
       "</div>"
      ],
      "text/plain": [
       "    Days_Since_Started     Date    Cases\n",
       "95                  96  4/26/20   965785\n",
       "96                  97  4/27/20   988197\n",
       "97                  98  4/28/20  1012582\n",
       "98                  99  4/29/20  1039909\n",
       "99                 100  4/30/20  1069424"
      ]
     },
     "execution_count": 3,
     "metadata": {},
     "output_type": "execute_result"
    }
   ],
   "source": [
    "# Read Data from \n",
    "confirmed_df = pd.read_csv('https://raw.githubusercontent.com/CSSEGISandData/COVID-19/master/csse_covid_19_data/csse_covid_19_time_series/time_series_covid19_confirmed_global.csv')\n",
    "#print('Shape is:', confirmed_df.shape)\n",
    "\n",
    "# Data is of all countries\n",
    "#confirmed_df['Country/Region'].unique()\n",
    "\n",
    "# Select United States data\n",
    "confirmed_df_usa = confirmed_df[confirmed_df['Country/Region'] == 'US']\n",
    "confirmed_df_usa = confirmed_df_usa.reset_index(drop = True)\n",
    "#print('confirmed_df_usa Shape:',confirmed_df_usa.shape )\n",
    "\n",
    "# Drop unnecessary columns, Transpose df, rename columns\n",
    "confirmed_df_usa = confirmed_df_usa.drop(['Province/State', 'Country/Region', 'Lat', 'Long'], axis = 1)\n",
    "confirmed_df_usa = confirmed_df_usa.T\n",
    "confirmed_df_usa = confirmed_df_usa.reset_index()\n",
    "confirmed_df_usa = confirmed_df_usa.reset_index()\n",
    "confirmed_df_usa = confirmed_df_usa.rename(columns = {'index':'Date',\n",
    "                                                     0: 'Cases',\n",
    "                                                     'level_0': 'Days_Since_Started'})\n",
    "\n",
    "confirmed_df_usa['Days_Since_Started'] = confirmed_df_usa['Days_Since_Started'] + 1\n",
    "#confirmed_df_usa = confirmed_df_usa[:-1]\n",
    "print('Today is {}th day since COVID19 started in USA'.format(confirmed_df_usa.shape[0] + 1))\n",
    "\n",
    "# About data freshness\n",
    "from datetime import date\n",
    "today = date.today()\n",
    "print(\"Today's date:\", today)\n",
    "print('COVID19 Data is till {} date'.format(confirmed_df_usa['Date'].iloc[-1]))\n",
    "confirmed_df_usa.tail()\n"
   ]
  },
  {
   "cell_type": "code",
   "execution_count": 4,
   "metadata": {},
   "outputs": [
    {
     "data": {
      "text/html": [
       "<div>\n",
       "<style scoped>\n",
       "    .dataframe tbody tr th:only-of-type {\n",
       "        vertical-align: middle;\n",
       "    }\n",
       "\n",
       "    .dataframe tbody tr th {\n",
       "        vertical-align: top;\n",
       "    }\n",
       "\n",
       "    .dataframe thead th {\n",
       "        text-align: right;\n",
       "    }\n",
       "</style>\n",
       "<table border=\"1\" class=\"dataframe\">\n",
       "  <thead>\n",
       "    <tr style=\"text-align: right;\">\n",
       "      <th></th>\n",
       "      <th>Days_Since_Started</th>\n",
       "      <th>Cases</th>\n",
       "    </tr>\n",
       "  </thead>\n",
       "  <tbody>\n",
       "    <tr>\n",
       "      <th>count</th>\n",
       "      <td>100.000000</td>\n",
       "      <td>1.000000e+02</td>\n",
       "    </tr>\n",
       "    <tr>\n",
       "      <th>mean</th>\n",
       "      <td>50.500000</td>\n",
       "      <td>2.060621e+05</td>\n",
       "    </tr>\n",
       "    <tr>\n",
       "      <th>std</th>\n",
       "      <td>29.011492</td>\n",
       "      <td>3.263527e+05</td>\n",
       "    </tr>\n",
       "    <tr>\n",
       "      <th>min</th>\n",
       "      <td>1.000000</td>\n",
       "      <td>1.000000e+00</td>\n",
       "    </tr>\n",
       "    <tr>\n",
       "      <th>25%</th>\n",
       "      <td>25.750000</td>\n",
       "      <td>1.300000e+01</td>\n",
       "    </tr>\n",
       "    <tr>\n",
       "      <th>50%</th>\n",
       "      <td>50.500000</td>\n",
       "      <td>1.472000e+03</td>\n",
       "    </tr>\n",
       "    <tr>\n",
       "      <th>75%</th>\n",
       "      <td>75.250000</td>\n",
       "      <td>3.441808e+05</td>\n",
       "    </tr>\n",
       "    <tr>\n",
       "      <th>max</th>\n",
       "      <td>100.000000</td>\n",
       "      <td>1.069424e+06</td>\n",
       "    </tr>\n",
       "  </tbody>\n",
       "</table>\n",
       "</div>"
      ],
      "text/plain": [
       "       Days_Since_Started         Cases\n",
       "count          100.000000  1.000000e+02\n",
       "mean            50.500000  2.060621e+05\n",
       "std             29.011492  3.263527e+05\n",
       "min              1.000000  1.000000e+00\n",
       "25%             25.750000  1.300000e+01\n",
       "50%             50.500000  1.472000e+03\n",
       "75%             75.250000  3.441808e+05\n",
       "max            100.000000  1.069424e+06"
      ]
     },
     "execution_count": 4,
     "metadata": {},
     "output_type": "execute_result"
    }
   ],
   "source": [
    "# Get summary Statistics\n",
    "confirmed_df_usa.describe()"
   ]
  },
  {
   "cell_type": "code",
   "execution_count": 5,
   "metadata": {},
   "outputs": [],
   "source": [
    "# Datatype handling\n",
    "import datetime as dt\n",
    "confirmed_df_usa['Date'] = pd.to_datetime(confirmed_df_usa['Date'])\n",
    "\n",
    "# Get Month\n",
    "confirmed_df_usa['Month'] = confirmed_df_usa['Date'].dt.month"
   ]
  },
  {
   "cell_type": "code",
   "execution_count": 6,
   "metadata": {},
   "outputs": [
    {
     "data": {
      "image/png": "[encoded data removed]",
      "text/plain": [
       "<Figure size 432x288 with 1 Axes>"
      ]
     },
     "metadata": {
      "needs_background": "light"
     },
     "output_type": "display_data"
    }
   ],
   "source": [
    "# Plot\n",
    "plt.plot(confirmed_df_usa['Date'], confirmed_df_usa['Cases'], 'r' )\n",
    "plt.title('COVID19 Cases by Day in USA')\n",
    "plt.xlabel(\"Date\") \n",
    "plt.ylabel('COVID Cases')\n",
    "plt.show()\n"
   ]
  },
  {
   "cell_type": "code",
   "execution_count": 7,
   "metadata": {},
   "outputs": [
    {
     "data": {
      "text/plain": [
       "Text(0, 0.5, '# of Cases')"
      ]
     },
     "execution_count": 7,
     "metadata": {},
     "output_type": "execute_result"
    },
    {
     "data": {
      "image/png": "[encoded data removed]",
      "text/plain": [
       "<Figure size 576x576 with 1 Axes>"
      ]
     },
     "metadata": {
      "needs_background": "light"
     },
     "output_type": "display_data"
    }
   ],
   "source": [
    "# Daily Cases\n",
    "confirmed_df_usa.groupby('Month')['Cases'].plot.bar(fontsize=10,\n",
    "                                                    figsize=(8,8))\n",
    "plt.title('Daily Confirmed Cases', size=8)\n",
    "plt.xlabel('# Days Since 1/22/2020', size=8)\n",
    "plt.ylabel('# of Cases', size=8)"
   ]
  },
  {
   "cell_type": "code",
   "execution_count": 8,
   "metadata": {},
   "outputs": [
    {
     "data": {
      "text/html": [
       "<div>\n",
       "<style scoped>\n",
       "    .dataframe tbody tr th:only-of-type {\n",
       "        vertical-align: middle;\n",
       "    }\n",
       "\n",
       "    .dataframe tbody tr th {\n",
       "        vertical-align: top;\n",
       "    }\n",
       "\n",
       "    .dataframe thead th {\n",
       "        text-align: right;\n",
       "    }\n",
       "</style>\n",
       "<table border=\"1\" class=\"dataframe\">\n",
       "  <thead>\n",
       "    <tr style=\"text-align: right;\">\n",
       "      <th></th>\n",
       "      <th>Days_Since_Started</th>\n",
       "      <th>Cases</th>\n",
       "      <th>Month</th>\n",
       "    </tr>\n",
       "  </thead>\n",
       "  <tbody>\n",
       "    <tr>\n",
       "      <th>Days_Since_Started</th>\n",
       "      <td>1.000000</td>\n",
       "      <td>0.817812</td>\n",
       "      <td>0.953965</td>\n",
       "    </tr>\n",
       "    <tr>\n",
       "      <th>Cases</th>\n",
       "      <td>0.817812</td>\n",
       "      <td>1.000000</td>\n",
       "      <td>0.738887</td>\n",
       "    </tr>\n",
       "    <tr>\n",
       "      <th>Month</th>\n",
       "      <td>0.953965</td>\n",
       "      <td>0.738887</td>\n",
       "      <td>1.000000</td>\n",
       "    </tr>\n",
       "  </tbody>\n",
       "</table>\n",
       "</div>"
      ],
      "text/plain": [
       "                    Days_Since_Started     Cases     Month\n",
       "Days_Since_Started            1.000000  0.817812  0.953965\n",
       "Cases                         0.817812  1.000000  0.738887\n",
       "Month                         0.953965  0.738887  1.000000"
      ]
     },
     "execution_count": 8,
     "metadata": {},
     "output_type": "execute_result"
    }
   ],
   "source": [
    "# Correlation between Cases & Days passed = +0.56\n",
    "confirmed_df_usa.corr()"
   ]
  },
  {
   "cell_type": "markdown",
   "metadata": {},
   "source": [
    "# Calculate Daily Rate Change"
   ]
  },
  {
   "cell_type": "code",
   "execution_count": 9,
   "metadata": {},
   "outputs": [
    {
     "name": "stdout",
     "output_type": "stream",
     "text": [
      "1\n"
     ]
    }
   ],
   "source": [
    "confirmed_df_usa['Cases_Pct_Change'] = confirmed_df_usa['Cases'].pct_change()\n",
    "print(confirmed_df_usa['Cases_Pct_Change'].isnull().sum())\n",
    "confirmed_df_usa['Cases_Pct_Change'] = confirmed_df_usa['Cases_Pct_Change'].fillna(0)\n",
    "confirmed_df_usa['Cases_Pct_Change'] = confirmed_df_usa['Cases_Pct_Change']*100\n",
    "confirmed_df_usa['Cases_Pct_Change'] = round(confirmed_df_usa['Cases_Pct_Change'], 2)"
   ]
  },
  {
   "cell_type": "code",
   "execution_count": 10,
   "metadata": {},
   "outputs": [
    {
     "data": {
      "image/png": "[encoded data removed]",
      "text/plain": [
       "<Figure size 432x288 with 1 Axes>"
      ]
     },
     "metadata": {
      "needs_background": "light"
     },
     "output_type": "display_data"
    }
   ],
   "source": [
    "# Plot\n",
    "plt.plot(confirmed_df_usa['Days_Since_Started'], confirmed_df_usa['Cases_Pct_Change'], 'r' )\n",
    "plt.title('% Change in COVID19 cases over previous day in USA')\n",
    "plt.xlabel(\"Days_Since_Started\") \n",
    "plt.ylabel('% Change in Cases')\n",
    "plt.show()\n"
   ]
  },
  {
   "cell_type": "code",
   "execution_count": 11,
   "metadata": {},
   "outputs": [],
   "source": [
    "# Note: Preidct RATE OF CHANGE in COVID19 cases using TIME SERIES Forecasting methods\n",
    "# NOT using regression \n",
    "# Or predict absolute number of cases using regression & calculate 'rate of change later"
   ]
  },
  {
   "cell_type": "markdown",
   "metadata": {},
   "source": [
    "# Linear Regression"
   ]
  },
  {
   "cell_type": "code",
   "execution_count": 12,
   "metadata": {},
   "outputs": [
    {
     "name": "stdout",
     "output_type": "stream",
     "text": [
      "Shape of X_test is: (100, 1)\n"
     ]
    }
   ],
   "source": [
    "X = confirmed_df_usa[['Days_Since_Started']]\n",
    "Y = confirmed_df_usa[['Cases']]\n",
    "print('Shape of X_test is:', X.shape)"
   ]
  },
  {
   "cell_type": "code",
   "execution_count": 13,
   "metadata": {},
   "outputs": [
    {
     "data": {
      "text/plain": [
       "([], <a list of 0 Text yticklabel objects>)"
      ]
     },
     "execution_count": 13,
     "metadata": {},
     "output_type": "execute_result"
    },
    {
     "data": {
      "image/png": "[encoded data removed]",
      "text/plain": [
       "<Figure size 432x288 with 1 Axes>"
      ]
     },
     "metadata": {},
     "output_type": "display_data"
    }
   ],
   "source": [
    "# Plot outputs\n",
    "plt.scatter(X, Y,  color='black')\n",
    "plt.title('Days vs COVID Cases')\n",
    "plt.xlabel('Days')\n",
    "plt.ylabel('COVID Cases')\n",
    "plt.xticks(())\n",
    "plt.yticks(())"
   ]
  },
  {
   "cell_type": "code",
   "execution_count": 14,
   "metadata": {},
   "outputs": [
    {
     "name": "stdout",
     "output_type": "stream",
     "text": [
      "Lets TRAIN on 98 examples\n",
      "Lets TEST on 2 examples\n"
     ]
    }
   ],
   "source": [
    "# Split the data into training/testing sets\n",
    "use_days = X.shape[0] - 2\n",
    "X_train = X[:use_days] \n",
    "X_test = X[use_days:]\n",
    "\n",
    "# Split the targets into training/testing sets\n",
    "Y_train = Y[-use_days:] \n",
    "Y_test = Y[:-use_days]\n",
    "\n",
    "print('Lets TRAIN on {}'.format(X_train.shape[0]),'examples')\n",
    "print('Lets TEST on {}'.format(X_test.shape[0]),'examples')"
   ]
  },
  {
   "cell_type": "code",
   "execution_count": 15,
   "metadata": {},
   "outputs": [
    {
     "name": "stdout",
     "output_type": "stream",
     "text": [
      "coefficient of determination: 0.666261847206762\n",
      "intercept: [-260563.62297496]\n",
      "slope: [[9511.73862122]]\n"
     ]
    },
    {
     "data": {
      "image/png": "[encoded data removed]",
      "text/plain": [
       "<Figure size 432x288 with 1 Axes>"
      ]
     },
     "metadata": {
      "needs_background": "light"
     },
     "output_type": "display_data"
    }
   ],
   "source": [
    "# Linear Model predicts COVID cases 'Linearly'\n",
    "\n",
    "# Create linear regression object & Train\n",
    "lin_model = LinearRegression().fit(X_train, Y_train)\n",
    "\n",
    "# Plot outputs \n",
    "plt.scatter(X,Y, color = 'red', label=\"Actual\") #Actual\n",
    "plt.scatter(X, lin_model.predict(X), color = 'black', label=\"predicted\") #Predicted\n",
    "plt.legend()\n",
    "\n",
    "# r_sq\n",
    "r_sq = lin_model.score(X, Y)\n",
    "print('coefficient of determination:', r_sq)\n",
    "\n",
    "print('intercept:', lin_model.intercept_)\n",
    "print('slope:', lin_model.coef_)\n",
    "\n",
    "# Linear Model Equation\n",
    "# COVID_Cases = -12863.1 + 651.3*Day"
   ]
  },
  {
   "cell_type": "markdown",
   "metadata": {},
   "source": [
    "# Non-Linear Regression Techniques"
   ]
  },
  {
   "cell_type": "code",
   "execution_count": 16,
   "metadata": {},
   "outputs": [
    {
     "name": "stdout",
     "output_type": "stream",
     "text": [
      "Train Model on 99 days data\n",
      "Test Model on 1 days data\n"
     ]
    }
   ],
   "source": [
    "# Create TRAIN & TEST split\n",
    "days_since_started = confirmed_df_usa[['Days_Since_Started']]\n",
    "usa_cases = confirmed_df_usa[['Cases']]\n",
    "\n",
    "X_train, X_test, y_train, y_test = train_test_split(days_since_started, \n",
    "                                                    usa_cases, \n",
    "                                                    test_size=0.01, \n",
    "                                                    shuffle=False) \n",
    "\n",
    "print('Train Model on {} days data'.format(X_train.shape[0]))\n",
    "print('Test Model on {} days data'.format(X_test.shape[0]))\n"
   ]
  },
  {
   "cell_type": "code",
   "execution_count": 17,
   "metadata": {},
   "outputs": [
    {
     "name": "stdout",
     "output_type": "stream",
     "text": [
      "Total # Days in future_forcast_df is: 110\n",
      "Predict from 10 days: 101 to 110\n"
     ]
    }
   ],
   "source": [
    "# Define 'number of days in FUTURE' to predict\n",
    "days_in_future = 10\n",
    "future_forcast_df = np.array([i for i in range(len(confirmed_df_usa['Days_Since_Started'])+ days_in_future)]).reshape(-1, 1)\n",
    "print('Total # Days in future_forcast_df is:', len(future_forcast_df))\n",
    "print('Predict from 10 days:', len(future_forcast_df)-9, 'to', len(future_forcast_df))"
   ]
  },
  {
   "cell_type": "markdown",
   "metadata": {},
   "source": [
    "# 1) Polynomial Regression"
   ]
  },
  {
   "cell_type": "raw",
   "metadata": {},
   "source": [
    "# Note: Keep adjusting degree of polynomial when retrained because TREND keeps changing frequently\n",
    "Trend change reasons: \n",
    "1. Started as a Linear trend\n",
    "2. people went out -- virus spreaded more -- trend changed\n",
    "3. people stayed home -- virus spread reduced -- trend changed\n",
    "4. more and more people are taking precasutions - wearing face masks & hand gloves - trend changed\n",
    "5. New vaccines are coming out -- trend changed\n",
    "6. People are not going out to TEST but suddenly a lot of them came out for TESTING - trend changed\n",
    "7. Data issues: data reporting is not accurate as hospitals are busy handling patients - trend missed \n"
   ]
  },
  {
   "cell_type": "code",
   "execution_count": 18,
   "metadata": {},
   "outputs": [],
   "source": [
    "# Transform data for polynomial regression\n",
    "poly_features = PolynomialFeatures(degree=10)\n",
    "\n",
    "# Transfor TRAIN dataset\n",
    "poly_X_train = poly_features.fit_transform(X_train)\n",
    "\n",
    "# Transform TEST dataset\n",
    "poly_X_test = poly_features.fit_transform(X_test)\n",
    "\n",
    "# Transform FUTURE dataset\n",
    "poly_future_forcast = poly_features.fit_transform(future_forcast_df)"
   ]
  },
  {
   "cell_type": "code",
   "execution_count": 19,
   "metadata": {},
   "outputs": [],
   "source": [
    "# prediction % deviation from actual\n",
    "def mean_absolute_percentage_error(y_true, y_pred):\n",
    "    y_true, y_pred = np.array(y_true), np.array(y_pred)\n",
    "    return round(np.mean(np.abs((y_true - y_pred) / y_true)) * 100, 2)\n"
   ]
  },
  {
   "cell_type": "code",
   "execution_count": 20,
   "metadata": {},
   "outputs": [
    {
     "name": "stdout",
     "output_type": "stream",
     "text": [
      "Fitted Model Coefficients: [[-2.53593386e-05  9.35829954e-02 -6.20383894e-03 -7.62511733e-02\n",
      "  -5.72496511e-01  5.94275492e-02 -2.38896561e-03  4.80545854e-05\n",
      "  -5.13607841e-07  2.79152989e-09 -6.07811463e-12]]\n",
      "TEST MAE: 13056.79\n",
      "TEST MAPE:1.22%\n"
     ]
    }
   ],
   "source": [
    "# Polynomial Regression: Linear Regression with \"Polynomial features\"\n",
    "\n",
    "# Define LR object\n",
    "ploy_reg = LinearRegression(normalize=True, \n",
    "                                fit_intercept=False)\n",
    "\n",
    "# Train\n",
    "ploy_reg.fit(poly_X_train, y_train)\n",
    "print('Fitted Model Coefficients:', ploy_reg.coef_)\n",
    "\n",
    "# Predict X_test\n",
    "y_test_pred = ploy_reg.predict(poly_X_test)\n",
    "# Predict future 10 days COVID cases\n",
    "future_10_days_pred = ploy_reg.predict(poly_future_forcast)\n",
    "\n",
    "print('TEST MAE:', round(mean_absolute_error(y_test_pred, y_test),2))\n",
    "print('TEST MAPE:{}%'.format(mean_absolute_percentage_error(y_test, y_test_pred)))\n"
   ]
  },
  {
   "cell_type": "code",
   "execution_count": 21,
   "metadata": {},
   "outputs": [
    {
     "name": "stdout",
     "output_type": "stream",
     "text": [
      "Actual: 99    1069424\n",
      "Name: Cases, dtype: int64\n",
      "Predicted: [[1082480.79061031]]\n"
     ]
    }
   ],
   "source": [
    "# Predicted TEST vs Actual Cases\n",
    "print('Actual:', y_test['Cases'])\n",
    "print('Predicted:', y_test_pred)\n",
    "\n",
    "# plt.plot(np.array(y_test))\n",
    "# plt.plot(y_test_pred)\n",
    "# plt.legend(['Test Data', 'Polynomial Regression Predictions'])"
   ]
  },
  {
   "cell_type": "code",
   "execution_count": 22,
   "metadata": {},
   "outputs": [
    {
     "name": "stdout",
     "output_type": "stream",
     "text": [
      "Results of sklearn.metrics:\n",
      "MAE: 4348.520208953313\n",
      "MSE: 25768201.310240727\n",
      "RMSE: 5076.2388941263125\n",
      "R-Squared: 0.9997394540883944\n"
     ]
    },
    {
     "data": {
      "text/plain": [
       "<matplotlib.legend.Legend at 0x1a1f76f650>"
      ]
     },
     "execution_count": 22,
     "metadata": {},
     "output_type": "execute_result"
    },
    {
     "data": {
      "image/png": "[encoded data removed]",
      "text/plain": [
       "<Figure size 432x288 with 1 Axes>"
      ]
     },
     "metadata": {
      "needs_background": "light"
     },
     "output_type": "display_data"
    }
   ],
   "source": [
    "# TRAIN Results\n",
    "y_train = y_train\n",
    "y_train_pred = ploy_reg.predict(poly_X_train)\n",
    "\n",
    "mae = metrics.mean_absolute_error(y_train, y_train_pred)\n",
    "mse = metrics.mean_squared_error(y_train, y_train_pred)\n",
    "rmse = np.sqrt(mse)  \n",
    "r2 = metrics.r2_score(y_train, y_train_pred)\n",
    "\n",
    "print(\"Results of sklearn.metrics:\")\n",
    "print(\"MAE:\",mae)\n",
    "print(\"MSE:\", mse)\n",
    "print(\"RMSE:\", rmse)\n",
    "print(\"R-Squared:\", r2)\n",
    "\n",
    "# Predicted TRAIN vs Actual Cases\n",
    "plt.plot(np.array(y_train))\n",
    "plt.plot(y_train_pred)\n",
    "plt.legend(['TRAIN Data', 'Poly Reg TRAIN Predictions'])"
   ]
  },
  {
   "cell_type": "code",
   "execution_count": 23,
   "metadata": {},
   "outputs": [
    {
     "data": {
      "text/plain": [
       "[Timestamp('2020-05-01 00:00:00', freq='D'),\n",
       " Timestamp('2020-05-02 00:00:00', freq='D'),\n",
       " Timestamp('2020-05-03 00:00:00', freq='D'),\n",
       " Timestamp('2020-05-04 00:00:00', freq='D'),\n",
       " Timestamp('2020-05-05 00:00:00', freq='D'),\n",
       " Timestamp('2020-05-06 00:00:00', freq='D'),\n",
       " Timestamp('2020-05-07 00:00:00', freq='D'),\n",
       " Timestamp('2020-05-08 00:00:00', freq='D'),\n",
       " Timestamp('2020-05-09 00:00:00', freq='D'),\n",
       " Timestamp('2020-05-10 00:00:00', freq='D')]"
      ]
     },
     "execution_count": 23,
     "metadata": {},
     "output_type": "execute_result"
    }
   ],
   "source": [
    "# Predictions for THESE 10 days\n",
    "datelist = pd.date_range(confirmed_df_usa['Date'].iloc[-1], periods=11).tolist()\n",
    "datelist = datelist[1:]\n",
    "datelist"
   ]
  },
  {
   "cell_type": "code",
   "execution_count": 24,
   "metadata": {},
   "outputs": [
    {
     "name": "stdout",
     "output_type": "stream",
     "text": [
      "COVID19 cases prediciton for next 10 days (starting March 27th): \n",
      " [1082481, 1119721, 1159777, 1202895, 1249230, 1298806, 1351480, 1406894, 1464423, 1523116]\n"
     ]
    },
    {
     "data": {
      "text/plain": [
       "<matplotlib.legend.Legend at 0x1a1f6f0a90>"
      ]
     },
     "execution_count": 24,
     "metadata": {},
     "output_type": "execute_result"
    },
    {
     "data": {
      "image/png": "[encoded data removed]",
      "text/plain": [
       "<Figure size 432x288 with 1 Axes>"
      ]
     },
     "metadata": {
      "needs_background": "light"
     },
     "output_type": "display_data"
    }
   ],
   "source": [
    "# FUTURE Results\n",
    "y_train = y_train\n",
    "future_y_pred = ploy_reg.predict(poly_future_forcast)\n",
    "pred_10days =  np.around(future_y_pred[-10:], decimals=0)\n",
    "pred_10days = list(itertools.chain(*pred_10days))\n",
    "pred_10days = list(map(int, pred_10days))\n",
    "print('COVID19 cases prediciton for next 10 days (starting March 27th): \\n', pred_10days)\n",
    "\n",
    "# Predicted Future Cases\n",
    "plt.plot(np.array(y_train))\n",
    "plt.plot(future_y_pred)\n",
    "plt.legend(['Actual TRAIN Data', 'Future 10 Days Predictions'])"
   ]
  },
  {
   "cell_type": "code",
   "execution_count": null,
   "metadata": {},
   "outputs": [],
   "source": []
  },
  {
   "cell_type": "code",
   "execution_count": 25,
   "metadata": {},
   "outputs": [],
   "source": [
    "# Get Standard Deviation of Prediction from TRAIN"
   ]
  },
  {
   "cell_type": "code",
   "execution_count": 26,
   "metadata": {},
   "outputs": [
    {
     "data": {
      "text/plain": [
       "(99, 1)"
      ]
     },
     "execution_count": 26,
     "metadata": {},
     "output_type": "execute_result"
    }
   ],
   "source": [
    "# Make TRAIN predictions\n",
    "y_train_pred = ploy_reg.predict(poly_X_train)\n",
    "y_train_pred_arr = np.array(y_train_pred)\n",
    "y_train_pred_df = pd.DataFrame(data = y_train_pred_arr.flatten())\n",
    "y_train_pred_df.shape"
   ]
  },
  {
   "cell_type": "code",
   "execution_count": 27,
   "metadata": {},
   "outputs": [
    {
     "data": {
      "text/plain": [
       "5128.30424507356"
      ]
     },
     "execution_count": 27,
     "metadata": {},
     "output_type": "execute_result"
    }
   ],
   "source": [
    "# Generate Standard Deviation of predictions from training data\n",
    "pred_stdev = np.sqrt(sum((y_train_pred_df[0] - y_train['Cases'])**2) / (len(y_train) - 2))\n",
    "pred_stdev"
   ]
  },
  {
   "cell_type": "code",
   "execution_count": 28,
   "metadata": {},
   "outputs": [],
   "source": [
    "# Make future prediciotn with CI"
   ]
  },
  {
   "cell_type": "code",
   "execution_count": 29,
   "metadata": {},
   "outputs": [
    {
     "data": {
      "text/plain": [
       "(110, 1)"
      ]
     },
     "execution_count": 29,
     "metadata": {},
     "output_type": "execute_result"
    }
   ],
   "source": [
    "# Make FUTURE predictions\n",
    "future_pred = ploy_reg.predict(poly_future_forcast)\n",
    "future_pred_arr = np.array(future_pred)\n",
    "future_pred_df = pd.DataFrame(data = future_pred_arr.flatten())\n",
    "future_pred_df = future_pred_df.rename(columns = {0: 'Cases_Pred'})\n",
    "future_pred_df.shape"
   ]
  },
  {
   "cell_type": "code",
   "execution_count": 30,
   "metadata": {},
   "outputs": [
    {
     "data": {
      "text/plain": [
       "(110, 3)"
      ]
     },
     "execution_count": 30,
     "metadata": {},
     "output_type": "execute_result"
    }
   ],
   "source": [
    "# Get UPPER & LOWER limit of CI \n",
    "future_pred_df['upper_ci'] = future_pred_df['Cases_Pred'] + 1.96*pred_stdev \n",
    "future_pred_df['lower_ci'] = future_pred_df['Cases_Pred'] - 1.96*pred_stdev\n",
    "future_pred_df.shape"
   ]
  },
  {
   "cell_type": "code",
   "execution_count": 31,
   "metadata": {},
   "outputs": [],
   "source": [
    "# Replace -ve predictions with 0 cases\n",
    "future_pred_df['lower_ci'] = np.where(future_pred_df['lower_ci'] < 0, 0, future_pred_df['lower_ci'])\n",
    "future_pred_df['Cases_Pred'] = np.where(future_pred_df['Cases_Pred'] < 0, 0, future_pred_df['Cases_Pred'])\n",
    "\n",
    "# limit float to 2 decimals cases\n",
    "future_pred_df = future_pred_df.round(decimals = 0)\n",
    "future_pred_df = future_pred_df.astype(int)\n",
    "future_pred_df = future_pred_df[1:]\n",
    "future_pred_df = future_pred_df.reset_index(drop = True)\n"
   ]
  },
  {
   "cell_type": "code",
   "execution_count": 32,
   "metadata": {},
   "outputs": [
    {
     "data": {
      "text/html": [
       "<div>\n",
       "<style scoped>\n",
       "    .dataframe tbody tr th:only-of-type {\n",
       "        vertical-align: middle;\n",
       "    }\n",
       "\n",
       "    .dataframe tbody tr th {\n",
       "        vertical-align: top;\n",
       "    }\n",
       "\n",
       "    .dataframe thead th {\n",
       "        text-align: right;\n",
       "    }\n",
       "</style>\n",
       "<table border=\"1\" class=\"dataframe\">\n",
       "  <thead>\n",
       "    <tr style=\"text-align: right;\">\n",
       "      <th></th>\n",
       "      <th>Date</th>\n",
       "      <th>Days_Since_Started</th>\n",
       "      <th>Actual_Cases</th>\n",
       "      <th>Cases_Pct_Change</th>\n",
       "      <th>Cases_Pred</th>\n",
       "      <th>upper_ci</th>\n",
       "      <th>lower_ci</th>\n",
       "    </tr>\n",
       "  </thead>\n",
       "  <tbody>\n",
       "    <tr>\n",
       "      <th>91</th>\n",
       "      <td>2020-04-22</td>\n",
       "      <td>92</td>\n",
       "      <td>840351.0</td>\n",
       "      <td>3.51</td>\n",
       "      <td>844699</td>\n",
       "      <td>854750</td>\n",
       "      <td>834647</td>\n",
       "    </tr>\n",
       "    <tr>\n",
       "      <th>92</th>\n",
       "      <td>2020-04-23</td>\n",
       "      <td>93</td>\n",
       "      <td>869170.0</td>\n",
       "      <td>3.43</td>\n",
       "      <td>871788</td>\n",
       "      <td>881839</td>\n",
       "      <td>861736</td>\n",
       "    </tr>\n",
       "    <tr>\n",
       "      <th>93</th>\n",
       "      <td>2020-04-24</td>\n",
       "      <td>94</td>\n",
       "      <td>905358.0</td>\n",
       "      <td>4.16</td>\n",
       "      <td>899010</td>\n",
       "      <td>909061</td>\n",
       "      <td>888959</td>\n",
       "    </tr>\n",
       "    <tr>\n",
       "      <th>94</th>\n",
       "      <td>2020-04-25</td>\n",
       "      <td>95</td>\n",
       "      <td>938154.0</td>\n",
       "      <td>3.62</td>\n",
       "      <td>926636</td>\n",
       "      <td>936688</td>\n",
       "      <td>916585</td>\n",
       "    </tr>\n",
       "    <tr>\n",
       "      <th>95</th>\n",
       "      <td>2020-04-26</td>\n",
       "      <td>96</td>\n",
       "      <td>965785.0</td>\n",
       "      <td>2.95</td>\n",
       "      <td>954975</td>\n",
       "      <td>965026</td>\n",
       "      <td>944923</td>\n",
       "    </tr>\n",
       "    <tr>\n",
       "      <th>96</th>\n",
       "      <td>2020-04-27</td>\n",
       "      <td>97</td>\n",
       "      <td>988197.0</td>\n",
       "      <td>2.32</td>\n",
       "      <td>984363</td>\n",
       "      <td>994415</td>\n",
       "      <td>974312</td>\n",
       "    </tr>\n",
       "    <tr>\n",
       "      <th>97</th>\n",
       "      <td>2020-04-28</td>\n",
       "      <td>98</td>\n",
       "      <td>1012582.0</td>\n",
       "      <td>2.47</td>\n",
       "      <td>1015163</td>\n",
       "      <td>1025214</td>\n",
       "      <td>1005111</td>\n",
       "    </tr>\n",
       "    <tr>\n",
       "      <th>98</th>\n",
       "      <td>2020-04-29</td>\n",
       "      <td>99</td>\n",
       "      <td>1039909.0</td>\n",
       "      <td>2.70</td>\n",
       "      <td>1047745</td>\n",
       "      <td>1057797</td>\n",
       "      <td>1037694</td>\n",
       "    </tr>\n",
       "    <tr>\n",
       "      <th>99</th>\n",
       "      <td>2020-04-30</td>\n",
       "      <td>100</td>\n",
       "      <td>1069424.0</td>\n",
       "      <td>2.84</td>\n",
       "      <td>1082481</td>\n",
       "      <td>1092532</td>\n",
       "      <td>1072429</td>\n",
       "    </tr>\n",
       "    <tr>\n",
       "      <th>100</th>\n",
       "      <td>2020-05-01</td>\n",
       "      <td>101</td>\n",
       "      <td>NaN</td>\n",
       "      <td>NaN</td>\n",
       "      <td>1119721</td>\n",
       "      <td>1129772</td>\n",
       "      <td>1109669</td>\n",
       "    </tr>\n",
       "    <tr>\n",
       "      <th>101</th>\n",
       "      <td>2020-05-02</td>\n",
       "      <td>102</td>\n",
       "      <td>NaN</td>\n",
       "      <td>NaN</td>\n",
       "      <td>1159777</td>\n",
       "      <td>1169828</td>\n",
       "      <td>1149725</td>\n",
       "    </tr>\n",
       "    <tr>\n",
       "      <th>102</th>\n",
       "      <td>2020-05-03</td>\n",
       "      <td>103</td>\n",
       "      <td>NaN</td>\n",
       "      <td>NaN</td>\n",
       "      <td>1202895</td>\n",
       "      <td>1212947</td>\n",
       "      <td>1192844</td>\n",
       "    </tr>\n",
       "    <tr>\n",
       "      <th>103</th>\n",
       "      <td>2020-05-04</td>\n",
       "      <td>104</td>\n",
       "      <td>NaN</td>\n",
       "      <td>NaN</td>\n",
       "      <td>1249230</td>\n",
       "      <td>1259282</td>\n",
       "      <td>1239179</td>\n",
       "    </tr>\n",
       "    <tr>\n",
       "      <th>104</th>\n",
       "      <td>2020-05-05</td>\n",
       "      <td>105</td>\n",
       "      <td>NaN</td>\n",
       "      <td>NaN</td>\n",
       "      <td>1298806</td>\n",
       "      <td>1308857</td>\n",
       "      <td>1288754</td>\n",
       "    </tr>\n",
       "    <tr>\n",
       "      <th>105</th>\n",
       "      <td>2020-05-06</td>\n",
       "      <td>106</td>\n",
       "      <td>NaN</td>\n",
       "      <td>NaN</td>\n",
       "      <td>1351480</td>\n",
       "      <td>1361531</td>\n",
       "      <td>1341428</td>\n",
       "    </tr>\n",
       "    <tr>\n",
       "      <th>106</th>\n",
       "      <td>2020-05-07</td>\n",
       "      <td>107</td>\n",
       "      <td>NaN</td>\n",
       "      <td>NaN</td>\n",
       "      <td>1406894</td>\n",
       "      <td>1416945</td>\n",
       "      <td>1396842</td>\n",
       "    </tr>\n",
       "    <tr>\n",
       "      <th>107</th>\n",
       "      <td>2020-05-08</td>\n",
       "      <td>108</td>\n",
       "      <td>NaN</td>\n",
       "      <td>NaN</td>\n",
       "      <td>1464423</td>\n",
       "      <td>1474475</td>\n",
       "      <td>1454372</td>\n",
       "    </tr>\n",
       "    <tr>\n",
       "      <th>108</th>\n",
       "      <td>2020-05-09</td>\n",
       "      <td>109</td>\n",
       "      <td>NaN</td>\n",
       "      <td>NaN</td>\n",
       "      <td>1523116</td>\n",
       "      <td>1533168</td>\n",
       "      <td>1513065</td>\n",
       "    </tr>\n",
       "  </tbody>\n",
       "</table>\n",
       "</div>"
      ],
      "text/plain": [
       "          Date  Days_Since_Started  Actual_Cases  Cases_Pct_Change  \\\n",
       "91  2020-04-22                  92      840351.0              3.51   \n",
       "92  2020-04-23                  93      869170.0              3.43   \n",
       "93  2020-04-24                  94      905358.0              4.16   \n",
       "94  2020-04-25                  95      938154.0              3.62   \n",
       "95  2020-04-26                  96      965785.0              2.95   \n",
       "96  2020-04-27                  97      988197.0              2.32   \n",
       "97  2020-04-28                  98     1012582.0              2.47   \n",
       "98  2020-04-29                  99     1039909.0              2.70   \n",
       "99  2020-04-30                 100     1069424.0              2.84   \n",
       "100 2020-05-01                 101           NaN               NaN   \n",
       "101 2020-05-02                 102           NaN               NaN   \n",
       "102 2020-05-03                 103           NaN               NaN   \n",
       "103 2020-05-04                 104           NaN               NaN   \n",
       "104 2020-05-05                 105           NaN               NaN   \n",
       "105 2020-05-06                 106           NaN               NaN   \n",
       "106 2020-05-07                 107           NaN               NaN   \n",
       "107 2020-05-08                 108           NaN               NaN   \n",
       "108 2020-05-09                 109           NaN               NaN   \n",
       "\n",
       "     Cases_Pred  upper_ci  lower_ci  \n",
       "91       844699    854750    834647  \n",
       "92       871788    881839    861736  \n",
       "93       899010    909061    888959  \n",
       "94       926636    936688    916585  \n",
       "95       954975    965026    944923  \n",
       "96       984363    994415    974312  \n",
       "97      1015163   1025214   1005111  \n",
       "98      1047745   1057797   1037694  \n",
       "99      1082481   1092532   1072429  \n",
       "100     1119721   1129772   1109669  \n",
       "101     1159777   1169828   1149725  \n",
       "102     1202895   1212947   1192844  \n",
       "103     1249230   1259282   1239179  \n",
       "104     1298806   1308857   1288754  \n",
       "105     1351480   1361531   1341428  \n",
       "106     1406894   1416945   1396842  \n",
       "107     1464423   1474475   1454372  \n",
       "108     1523116   1533168   1513065  "
      ]
     },
     "execution_count": 32,
     "metadata": {},
     "output_type": "execute_result"
    }
   ],
   "source": [
    "# Merge pred with original df \n",
    "final_df = confirmed_df_usa.merge(future_pred_df, \n",
    "                                  how='outer', \n",
    "                                  left_index=True, \n",
    "                                  right_index=True)\n",
    "\n",
    "#\n",
    "final_df = final_df.reset_index()\n",
    "final_df['Days_Since_Started'] = final_df['index'] + 1\n",
    "del final_df['index']\n",
    "del final_df['Month']\n",
    "del final_df['Date']\n",
    "\n",
    "# Generate date column\n",
    "date_list = pd.date_range(start='22/01/2020', periods = final_df.shape[0])\n",
    "date_list\n",
    "\n",
    "#\n",
    "final_df = final_df.set_index(date_list)\n",
    "final_df = final_df.reset_index()\n",
    "final_df = final_df.rename(columns =  {'index':'Date', \n",
    "                                      'Cases': 'Actual_Cases'})\n",
    "\n",
    "# Save predicitons \n",
    "final_df.to_csv('COVID_Predictions_USA.csv', encoding = 'UTF-8')\n",
    "\n",
    "#\n",
    "final_df.tail(18)"
   ]
  },
  {
   "cell_type": "markdown",
   "metadata": {},
   "source": [
    "# PLOT"
   ]
  },
  {
   "cell_type": "code",
   "execution_count": 33,
   "metadata": {},
   "outputs": [
    {
     "data": {
      "text/plain": [
       "<matplotlib.legend.Legend at 0x1a1f189910>"
      ]
     },
     "execution_count": 33,
     "metadata": {},
     "output_type": "execute_result"
    },
    {
     "data": {
      "image/png": "[encoded data removed]",
      "text/plain": [
       "<Figure size 432x288 with 1 Axes>"
      ]
     },
     "metadata": {
      "needs_background": "light"
     },
     "output_type": "display_data"
    }
   ],
   "source": [
    "# Predicted TRAIN vs Actual Cases\n",
    "plt.plot(np.array(final_df['Actual_Cases']), 'r--')\n",
    "plt.plot(np.array(final_df['Cases_Pred']))\n",
    "plt.plot(np.array(final_df['upper_ci']))\n",
    "plt.plot(np.array(final_df['lower_ci']))\n",
    "\n",
    "plt.legend(['Actual_Cases', 'Cases_Pred', 'upper_ci', 'lower_ci' ])\n",
    "\n"
   ]
  },
  {
   "cell_type": "code",
   "execution_count": 34,
   "metadata": {},
   "outputs": [
    {
     "data": {
      "text/plain": [
       "Text(0, 0.5, '# of Cases')"
      ]
     },
     "execution_count": 34,
     "metadata": {},
     "output_type": "execute_result"
    },
    {
     "data": {
      "image/png": "[encoded data removed]",
      "text/plain": [
       "<Figure size 576x576 with 1 Axes>"
      ]
     },
     "metadata": {
      "needs_background": "light"
     },
     "output_type": "display_data"
    }
   ],
   "source": [
    "# Daily Cases\n",
    "confirmed_df_usa.groupby('Month')['Cases'].plot.bar(fontsize=10,\n",
    "                                                    figsize=(8,8))\n",
    "plt.title('Daily Confirmed Cases', size=8)\n",
    "plt.xlabel('# Days Since 1/22/2020', size=8)\n",
    "plt.ylabel('# of Cases', size=8)"
   ]
  },
  {
   "cell_type": "code",
   "execution_count": 35,
   "metadata": {},
   "outputs": [
    {
     "data": {
      "text/plain": [
       "<matplotlib.axes._subplots.AxesSubplot at 0x1a1f98a350>"
      ]
     },
     "execution_count": 35,
     "metadata": {},
     "output_type": "execute_result"
    },
    {
     "data": {
      "image/png": "[encoded data removed]",
      "text/plain": [
       "<Figure size 720x720 with 1 Axes>"
      ]
     },
     "metadata": {
      "needs_background": "light"
     },
     "output_type": "display_data"
    }
   ],
   "source": [
    "final_df[[\"Days_Since_Started\", 'Actual_Cases','Cases_Pred']].plot(x=\"Days_Since_Started\", \n",
    "                                                                   kind=\"bar\",\n",
    "                                                                   figsize=(10,10))\n"
   ]
  },
  {
   "cell_type": "code",
   "execution_count": null,
   "metadata": {},
   "outputs": [],
   "source": []
  }
 ],
 "metadata": {
  "kernelspec": {
   "display_name": "Python 3",
   "language": "python",
   "name": "python3"
  },
  "language_info": {
   "codemirror_mode": {
    "name": "ipython",
    "version": 3
   },
   "file_extension": ".py",
   "mimetype": "text/x-python",
   "name": "python",
   "nbconvert_exporter": "python",
   "pygments_lexer": "ipython3",
   "version": "3.7.6"
  }
 },
 "nbformat": 4,
 "nbformat_minor": 4
}
