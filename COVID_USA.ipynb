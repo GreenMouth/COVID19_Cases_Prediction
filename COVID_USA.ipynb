{
 "cells": [
  {
   "cell_type": "code",
   "execution_count": 1,
   "metadata": {},
   "outputs": [],
   "source": [
    "# Author: Prashant Shinde\n",
    "# Date: March 28th, 2020\n",
    "# Goal: Predict # of COVID 19 'confirmed' case per day within USA"
   ]
  },
  {
   "cell_type": "code",
   "execution_count": 2,
   "metadata": {},
   "outputs": [],
   "source": [
    "import pandas as pd \n",
    "import numpy as np \n",
    "\n",
    "import matplotlib.pyplot as plt \n",
    "import matplotlib.colors as mcolors\n",
    "plt.style.use('fivethirtyeight')\n",
    "%matplotlib inline \n",
    "import itertools\n",
    "\n",
    "# feature engineering\n",
    "from sklearn.model_selection import RandomizedSearchCV, train_test_split\n",
    "from sklearn.preprocessing import PolynomialFeatures\n",
    "\n",
    "# model\n",
    "from sklearn.linear_model import LinearRegression, BayesianRidge\n",
    "from sklearn.svm import SVR\n",
    "\n",
    "# model performance\n",
    "from sklearn.metrics import mean_squared_error, mean_absolute_error\n",
    "import sklearn.metrics as metrics\n"
   ]
  },
  {
   "cell_type": "code",
   "execution_count": 3,
   "metadata": {},
   "outputs": [
    {
     "name": "stdout",
     "output_type": "stream",
     "text": [
      "Today is 76th day since COVID19 started in USA\n",
      "Today's date: 2020-04-06\n",
      "COVID19 Data is till 4/5/20 date\n"
     ]
    },
    {
     "data": {
      "text/html": [
       "<div>\n",
       "<style scoped>\n",
       "    .dataframe tbody tr th:only-of-type {\n",
       "        vertical-align: middle;\n",
       "    }\n",
       "\n",
       "    .dataframe tbody tr th {\n",
       "        vertical-align: top;\n",
       "    }\n",
       "\n",
       "    .dataframe thead th {\n",
       "        text-align: right;\n",
       "    }\n",
       "</style>\n",
       "<table border=\"1\" class=\"dataframe\">\n",
       "  <thead>\n",
       "    <tr style=\"text-align: right;\">\n",
       "      <th></th>\n",
       "      <th>Days_Since_Started</th>\n",
       "      <th>Date</th>\n",
       "      <th>Cases</th>\n",
       "    </tr>\n",
       "  </thead>\n",
       "  <tbody>\n",
       "    <tr>\n",
       "      <th>70</th>\n",
       "      <td>71</td>\n",
       "      <td>4/1/20</td>\n",
       "      <td>213372</td>\n",
       "    </tr>\n",
       "    <tr>\n",
       "      <th>71</th>\n",
       "      <td>72</td>\n",
       "      <td>4/2/20</td>\n",
       "      <td>243453</td>\n",
       "    </tr>\n",
       "    <tr>\n",
       "      <th>72</th>\n",
       "      <td>73</td>\n",
       "      <td>4/3/20</td>\n",
       "      <td>275586</td>\n",
       "    </tr>\n",
       "    <tr>\n",
       "      <th>73</th>\n",
       "      <td>74</td>\n",
       "      <td>4/4/20</td>\n",
       "      <td>308850</td>\n",
       "    </tr>\n",
       "    <tr>\n",
       "      <th>74</th>\n",
       "      <td>75</td>\n",
       "      <td>4/5/20</td>\n",
       "      <td>337072</td>\n",
       "    </tr>\n",
       "  </tbody>\n",
       "</table>\n",
       "</div>"
      ],
      "text/plain": [
       "    Days_Since_Started    Date   Cases\n",
       "70                  71  4/1/20  213372\n",
       "71                  72  4/2/20  243453\n",
       "72                  73  4/3/20  275586\n",
       "73                  74  4/4/20  308850\n",
       "74                  75  4/5/20  337072"
      ]
     },
     "execution_count": 3,
     "metadata": {},
     "output_type": "execute_result"
    }
   ],
   "source": [
    "# Read Data from \n",
    "confirmed_df = pd.read_csv('https://raw.githubusercontent.com/CSSEGISandData/COVID-19/master/csse_covid_19_data/csse_covid_19_time_series/time_series_covid19_confirmed_global.csv')\n",
    "#print('Shape is:', confirmed_df.shape)\n",
    "\n",
    "# Data is of all countries\n",
    "#confirmed_df['Country/Region'].unique()\n",
    "\n",
    "# Select United States data\n",
    "confirmed_df_usa = confirmed_df[confirmed_df['Country/Region'] == 'US']\n",
    "confirmed_df_usa = confirmed_df_usa.reset_index(drop = True)\n",
    "#print('confirmed_df_usa Shape:',confirmed_df_usa.shape )\n",
    "\n",
    "# Drop unnecessary columns, Transpose df, rename columns\n",
    "confirmed_df_usa = confirmed_df_usa.drop(['Province/State', 'Country/Region', 'Lat', 'Long'], axis = 1)\n",
    "confirmed_df_usa = confirmed_df_usa.T\n",
    "confirmed_df_usa = confirmed_df_usa.reset_index()\n",
    "confirmed_df_usa = confirmed_df_usa.reset_index()\n",
    "confirmed_df_usa = confirmed_df_usa.rename(columns = {'index':'Date',\n",
    "                                                     0: 'Cases',\n",
    "                                                     'level_0': 'Days_Since_Started'})\n",
    "\n",
    "confirmed_df_usa['Days_Since_Started'] = confirmed_df_usa['Days_Since_Started'] + 1\n",
    "#confirmed_df_usa = confirmed_df_usa[:-1]\n",
    "print('Today is {}th day since COVID19 started in USA'.format(confirmed_df_usa.shape[0] + 1))\n",
    "\n",
    "# About data freshness\n",
    "from datetime import date\n",
    "today = date.today()\n",
    "print(\"Today's date:\", today)\n",
    "print('COVID19 Data is till {} date'.format(confirmed_df_usa['Date'].iloc[-1]))\n",
    "confirmed_df_usa.tail()\n"
   ]
  },
  {
   "cell_type": "code",
   "execution_count": 4,
   "metadata": {},
   "outputs": [
    {
     "data": {
      "text/html": [
       "<div>\n",
       "<style scoped>\n",
       "    .dataframe tbody tr th:only-of-type {\n",
       "        vertical-align: middle;\n",
       "    }\n",
       "\n",
       "    .dataframe tbody tr th {\n",
       "        vertical-align: top;\n",
       "    }\n",
       "\n",
       "    .dataframe thead th {\n",
       "        text-align: right;\n",
       "    }\n",
       "</style>\n",
       "<table border=\"1\" class=\"dataframe\">\n",
       "  <thead>\n",
       "    <tr style=\"text-align: right;\">\n",
       "      <th></th>\n",
       "      <th>Days_Since_Started</th>\n",
       "      <th>Cases</th>\n",
       "    </tr>\n",
       "  </thead>\n",
       "  <tbody>\n",
       "    <tr>\n",
       "      <th>count</th>\n",
       "      <td>75.000000</td>\n",
       "      <td>75.000000</td>\n",
       "    </tr>\n",
       "    <tr>\n",
       "      <th>mean</th>\n",
       "      <td>38.000000</td>\n",
       "      <td>32870.680000</td>\n",
       "    </tr>\n",
       "    <tr>\n",
       "      <th>std</th>\n",
       "      <td>21.794495</td>\n",
       "      <td>76571.205785</td>\n",
       "    </tr>\n",
       "    <tr>\n",
       "      <th>min</th>\n",
       "      <td>1.000000</td>\n",
       "      <td>1.000000</td>\n",
       "    </tr>\n",
       "    <tr>\n",
       "      <th>25%</th>\n",
       "      <td>19.500000</td>\n",
       "      <td>11.000000</td>\n",
       "    </tr>\n",
       "    <tr>\n",
       "      <th>50%</th>\n",
       "      <td>38.000000</td>\n",
       "      <td>60.000000</td>\n",
       "    </tr>\n",
       "    <tr>\n",
       "      <th>75%</th>\n",
       "      <td>56.500000</td>\n",
       "      <td>7102.000000</td>\n",
       "    </tr>\n",
       "    <tr>\n",
       "      <th>max</th>\n",
       "      <td>75.000000</td>\n",
       "      <td>337072.000000</td>\n",
       "    </tr>\n",
       "  </tbody>\n",
       "</table>\n",
       "</div>"
      ],
      "text/plain": [
       "       Days_Since_Started          Cases\n",
       "count           75.000000      75.000000\n",
       "mean            38.000000   32870.680000\n",
       "std             21.794495   76571.205785\n",
       "min              1.000000       1.000000\n",
       "25%             19.500000      11.000000\n",
       "50%             38.000000      60.000000\n",
       "75%             56.500000    7102.000000\n",
       "max             75.000000  337072.000000"
      ]
     },
     "execution_count": 4,
     "metadata": {},
     "output_type": "execute_result"
    }
   ],
   "source": [
    "# Get summary Statistics\n",
    "confirmed_df_usa.describe()"
   ]
  },
  {
   "cell_type": "code",
   "execution_count": 5,
   "metadata": {},
   "outputs": [],
   "source": [
    "# Datatype handling\n",
    "import datetime as dt\n",
    "confirmed_df_usa['Date'] = pd.to_datetime(confirmed_df_usa['Date'])\n",
    "\n",
    "# Get Month\n",
    "confirmed_df_usa['Month'] = confirmed_df_usa['Date'].dt.month"
   ]
  },
  {
   "cell_type": "code",
   "execution_count": 6,
   "metadata": {},
   "outputs": [
    {
     "data": {
      "image/png": "[encoded data removed]",
      "text/plain": [
       "<Figure size 432x288 with 1 Axes>"
      ]
     },
     "metadata": {
      "needs_background": "light"
     },
     "output_type": "display_data"
    }
   ],
   "source": [
    "# Plot\n",
    "plt.plot(confirmed_df_usa['Date'], confirmed_df_usa['Cases'], 'r' )\n",
    "plt.title('COVID19 Cases by Day in USA')\n",
    "plt.xlabel(\"Date\") \n",
    "plt.ylabel('COVID Cases')\n",
    "plt.show()\n"
   ]
  },
  {
   "cell_type": "code",
   "execution_count": 7,
   "metadata": {},
   "outputs": [
    {
     "data": {
      "text/plain": [
       "Text(0, 0.5, '# of Cases')"
      ]
     },
     "execution_count": 7,
     "metadata": {},
     "output_type": "execute_result"
    },
    {
     "data": {
      "image/png": "[encoded data removed]",
      "text/plain": [
       "<Figure size 576x576 with 1 Axes>"
      ]
     },
     "metadata": {
      "needs_background": "light"
     },
     "output_type": "display_data"
    }
   ],
   "source": [
    "# Daily Cases\n",
    "confirmed_df_usa.groupby('Month')['Cases'].plot.bar(fontsize=10,\n",
    "                                                    figsize=(8,8))\n",
    "plt.title('Daily Confirmed Cases', size=8)\n",
    "plt.xlabel('# Days Since 1/22/2020', size=8)\n",
    "plt.ylabel('# of Cases', size=8)"
   ]
  },
  {
   "cell_type": "code",
   "execution_count": 8,
   "metadata": {},
   "outputs": [
    {
     "data": {
      "text/html": [
       "<div>\n",
       "<style scoped>\n",
       "    .dataframe tbody tr th:only-of-type {\n",
       "        vertical-align: middle;\n",
       "    }\n",
       "\n",
       "    .dataframe tbody tr th {\n",
       "        vertical-align: top;\n",
       "    }\n",
       "\n",
       "    .dataframe thead th {\n",
       "        text-align: right;\n",
       "    }\n",
       "</style>\n",
       "<table border=\"1\" class=\"dataframe\">\n",
       "  <thead>\n",
       "    <tr style=\"text-align: right;\">\n",
       "      <th></th>\n",
       "      <th>Days_Since_Started</th>\n",
       "      <th>Cases</th>\n",
       "      <th>Month</th>\n",
       "    </tr>\n",
       "  </thead>\n",
       "  <tbody>\n",
       "    <tr>\n",
       "      <th>Days_Since_Started</th>\n",
       "      <td>1.000000</td>\n",
       "      <td>0.640423</td>\n",
       "      <td>0.923588</td>\n",
       "    </tr>\n",
       "    <tr>\n",
       "      <th>Cases</th>\n",
       "      <td>0.640423</td>\n",
       "      <td>1.000000</td>\n",
       "      <td>0.617606</td>\n",
       "    </tr>\n",
       "    <tr>\n",
       "      <th>Month</th>\n",
       "      <td>0.923588</td>\n",
       "      <td>0.617606</td>\n",
       "      <td>1.000000</td>\n",
       "    </tr>\n",
       "  </tbody>\n",
       "</table>\n",
       "</div>"
      ],
      "text/plain": [
       "                    Days_Since_Started     Cases     Month\n",
       "Days_Since_Started            1.000000  0.640423  0.923588\n",
       "Cases                         0.640423  1.000000  0.617606\n",
       "Month                         0.923588  0.617606  1.000000"
      ]
     },
     "execution_count": 8,
     "metadata": {},
     "output_type": "execute_result"
    }
   ],
   "source": [
    "# Correlation between Cases & Days passed = +0.56\n",
    "confirmed_df_usa.corr()"
   ]
  },
  {
   "cell_type": "code",
   "execution_count": null,
   "metadata": {},
   "outputs": [],
   "source": []
  },
  {
   "cell_type": "markdown",
   "metadata": {},
   "source": [
    "# Linear Regression"
   ]
  },
  {
   "cell_type": "code",
   "execution_count": 9,
   "metadata": {},
   "outputs": [
    {
     "name": "stdout",
     "output_type": "stream",
     "text": [
      "Shape of X_test is: (75, 1)\n"
     ]
    }
   ],
   "source": [
    "X = confirmed_df_usa[['Days_Since_Started']]\n",
    "Y = confirmed_df_usa[['Cases']]\n",
    "print('Shape of X_test is:', X.shape)"
   ]
  },
  {
   "cell_type": "code",
   "execution_count": 10,
   "metadata": {},
   "outputs": [
    {
     "data": {
      "text/plain": [
       "([], <a list of 0 Text yticklabel objects>)"
      ]
     },
     "execution_count": 10,
     "metadata": {},
     "output_type": "execute_result"
    },
    {
     "data": {
      "image/png": "[encoded data removed]",
      "text/plain": [
       "<Figure size 432x288 with 1 Axes>"
      ]
     },
     "metadata": {},
     "output_type": "display_data"
    }
   ],
   "source": [
    "# Plot outputs\n",
    "plt.scatter(X, Y,  color='black')\n",
    "plt.title('Days vs COVID Cases')\n",
    "plt.xlabel('Days')\n",
    "plt.ylabel('COVID Cases')\n",
    "plt.xticks(())\n",
    "plt.yticks(())"
   ]
  },
  {
   "cell_type": "code",
   "execution_count": null,
   "metadata": {},
   "outputs": [],
   "source": []
  },
  {
   "cell_type": "code",
   "execution_count": 11,
   "metadata": {},
   "outputs": [
    {
     "name": "stdout",
     "output_type": "stream",
     "text": [
      "Lets TRAIN on 73 examples\n",
      "Lets TEST on 2 examples\n"
     ]
    }
   ],
   "source": [
    "# Split the data into training/testing sets\n",
    "use_days = X.shape[0] - 2\n",
    "X_train = X[:use_days] \n",
    "X_test = X[use_days:]\n",
    "\n",
    "# Split the targets into training/testing sets\n",
    "Y_train = Y[-use_days:] \n",
    "Y_test = Y[:-use_days]\n",
    "\n",
    "print('Lets TRAIN on {}'.format(X_train.shape[0]),'examples')\n",
    "print('Lets TEST on {}'.format(X_test.shape[0]),'examples')"
   ]
  },
  {
   "cell_type": "code",
   "execution_count": 12,
   "metadata": {},
   "outputs": [
    {
     "name": "stdout",
     "output_type": "stream",
     "text": [
      "coefficient of determination: 0.40724567804448997\n",
      "intercept: [-53697.70205479]\n",
      "slope: [[2364.02489819]]\n"
     ]
    },
    {
     "data": {
      "image/png": "[encoded data removed]",
      "text/plain": [
       "<Figure size 432x288 with 1 Axes>"
      ]
     },
     "metadata": {
      "needs_background": "light"
     },
     "output_type": "display_data"
    }
   ],
   "source": [
    "# Linear Model predicts COVID cases 'Linearly'\n",
    "\n",
    "# Create linear regression object & Train\n",
    "lin_model = LinearRegression().fit(X_train, Y_train)\n",
    "\n",
    "# Plot outputs \n",
    "plt.scatter(X,Y, color = 'red', label=\"Actual\") #Actual\n",
    "plt.scatter(X, lin_model.predict(X), color = 'black', label=\"predicted\") #Predicted\n",
    "plt.legend()\n",
    "\n",
    "# r_sq\n",
    "r_sq = lin_model.score(X, Y)\n",
    "print('coefficient of determination:', r_sq)\n",
    "\n",
    "print('intercept:', lin_model.intercept_)\n",
    "print('slope:', lin_model.coef_)\n",
    "\n",
    "# Linear Model Equation\n",
    "# COVID_Cases = -12863.1 + 651.3*Day"
   ]
  },
  {
   "cell_type": "code",
   "execution_count": null,
   "metadata": {},
   "outputs": [],
   "source": []
  },
  {
   "cell_type": "markdown",
   "metadata": {},
   "source": [
    "# Non-Linear Regression Techniques"
   ]
  },
  {
   "cell_type": "code",
   "execution_count": 13,
   "metadata": {},
   "outputs": [
    {
     "name": "stdout",
     "output_type": "stream",
     "text": [
      "Train Model on 74 days data\n",
      "Test Model on 1 days data\n"
     ]
    }
   ],
   "source": [
    "# Create TRAIN & TEST split\n",
    "days_since_started = confirmed_df_usa[['Days_Since_Started']]\n",
    "usa_cases = confirmed_df_usa[['Cases']]\n",
    "\n",
    "X_train, X_test, y_train, y_test = train_test_split(days_since_started, \n",
    "                                                    usa_cases, \n",
    "                                                    test_size=0.01, \n",
    "                                                    shuffle=False) \n",
    "\n",
    "print('Train Model on {} days data'.format(X_train.shape[0]))\n",
    "print('Test Model on {} days data'.format(X_test.shape[0]))\n"
   ]
  },
  {
   "cell_type": "code",
   "execution_count": 14,
   "metadata": {},
   "outputs": [
    {
     "name": "stdout",
     "output_type": "stream",
     "text": [
      "Total # Days in future_forcast_df is: 85\n",
      "Predict from 10 days: 76 to 85\n"
     ]
    }
   ],
   "source": [
    "# Define 'number of days in FUTURE' to predict\n",
    "days_in_future = 10\n",
    "future_forcast_df = np.array([i for i in range(len(confirmed_df_usa['Days_Since_Started'])+ days_in_future)]).reshape(-1, 1)\n",
    "print('Total # Days in future_forcast_df is:', len(future_forcast_df))\n",
    "print('Predict from 10 days:', len(future_forcast_df)-9, 'to', len(future_forcast_df))"
   ]
  },
  {
   "cell_type": "markdown",
   "metadata": {},
   "source": [
    "# 1) Polynomial Regression"
   ]
  },
  {
   "cell_type": "raw",
   "metadata": {},
   "source": [
    "# Note: Keep adjusting degree of polynomial when retrained because TREND keeps changing frequently\n",
    "Trend change reasons: \n",
    "1. Started as a Linear trend\n",
    "2. people went out -- virus spreaded more -- trend changed\n",
    "3. people stayed home -- virus spread reduced -- trend changed\n",
    "4. more and more people are taking precasutions - wearing face masks & hand gloves - trend changed\n",
    "5. New vaccines are coming out -- trend changed\n",
    "6. People are not going out to TEST but suddenly a lot of them came out for TESTING - trend changed\n",
    "7. Data issues: data reporting is not accurate as hospitals are busy handling patients - trend missed \n"
   ]
  },
  {
   "cell_type": "code",
   "execution_count": 30,
   "metadata": {},
   "outputs": [],
   "source": [
    "# Transform data for polynomial regression\n",
    "poly_features = PolynomialFeatures(degree=6)\n",
    "\n",
    "# Transfor TRAIN dataset\n",
    "poly_X_train = poly_features.fit_transform(X_train)\n",
    "\n",
    "# Transform TEST dataset\n",
    "poly_X_test = poly_features.fit_transform(X_test)\n",
    "\n",
    "# Transform FUTURE dataset\n",
    "poly_future_forcast = poly_features.fit_transform(future_forcast_df)"
   ]
  },
  {
   "cell_type": "code",
   "execution_count": 31,
   "metadata": {},
   "outputs": [],
   "source": [
    "# prediction % deviation from actual\n",
    "def mean_absolute_percentage_error(y_true, y_pred):\n",
    "    y_true, y_pred = np.array(y_true), np.array(y_pred)\n",
    "    return round(np.mean(np.abs((y_true - y_pred) / y_true)) * 100, 2)\n"
   ]
  },
  {
   "cell_type": "code",
   "execution_count": 32,
   "metadata": {},
   "outputs": [
    {
     "name": "stdout",
     "output_type": "stream",
     "text": [
      "Fitted Model Coefficients: [[-4.57448352e+03  2.44244328e+03 -3.27269444e+02  1.70204153e+01\n",
      "  -3.84054937e-01  3.43613094e-03 -6.54894471e-06]]\n",
      "TEST MAE: 17923.92\n",
      "TEST MAPE:5.32%\n"
     ]
    }
   ],
   "source": [
    "# Polynomial Regression: Linear Regression with \"Polynomial features\"\n",
    "\n",
    "# Define LR object\n",
    "ploy_reg = LinearRegression(normalize=True, \n",
    "                                fit_intercept=False)\n",
    "\n",
    "# Train\n",
    "ploy_reg.fit(poly_X_train, y_train)\n",
    "print('Fitted Model Coefficients:', ploy_reg.coef_)\n",
    "\n",
    "# Predict X_test\n",
    "y_test_pred = ploy_reg.predict(poly_X_test)\n",
    "# Predict future 10 days COVID cases\n",
    "future_10_days_pred = ploy_reg.predict(poly_future_forcast)\n",
    "\n",
    "print('TEST MAE:', round(mean_absolute_error(y_test_pred, y_test),2))\n",
    "print('TEST MAPE:{}%'.format(mean_absolute_percentage_error(y_test, y_test_pred)))\n"
   ]
  },
  {
   "cell_type": "code",
   "execution_count": 33,
   "metadata": {},
   "outputs": [
    {
     "name": "stdout",
     "output_type": "stream",
     "text": [
      "Actual: 74    337072\n",
      "Name: Cases, dtype: int64\n",
      "Predicted: [[354995.91833047]]\n"
     ]
    },
    {
     "data": {
      "text/plain": [
       "<matplotlib.legend.Legend at 0x1a281ea150>"
      ]
     },
     "execution_count": 33,
     "metadata": {},
     "output_type": "execute_result"
    },
    {
     "data": {
      "image/png": "[encoded data removed]",
      "text/plain": [
       "<Figure size 432x288 with 1 Axes>"
      ]
     },
     "metadata": {
      "needs_background": "light"
     },
     "output_type": "display_data"
    }
   ],
   "source": [
    "# Predicted TEST vs Actual Cases\n",
    "print('Actual:', y_test['Cases'])\n",
    "print('Predicted:', y_test_pred)\n",
    "\n",
    "plt.plot(np.array(y_test))\n",
    "plt.plot(y_test_pred)\n",
    "plt.legend(['Test Data', 'Polynomial Regression Predictions'])"
   ]
  },
  {
   "cell_type": "code",
   "execution_count": 34,
   "metadata": {},
   "outputs": [
    {
     "name": "stdout",
     "output_type": "stream",
     "text": [
      "Results of sklearn.metrics:\n",
      "MAE: 1730.7612741122464\n",
      "MSE: 4455571.783764782\n",
      "RMSE: 2110.822537250534\n",
      "R-Squared: 0.9990304977279832\n"
     ]
    },
    {
     "data": {
      "text/plain": [
       "<matplotlib.legend.Legend at 0x1a276ff210>"
      ]
     },
     "execution_count": 34,
     "metadata": {},
     "output_type": "execute_result"
    },
    {
     "data": {
      "image/png": "[encoded data removed]",
      "text/plain": [
       "<Figure size 432x288 with 1 Axes>"
      ]
     },
     "metadata": {
      "needs_background": "light"
     },
     "output_type": "display_data"
    }
   ],
   "source": [
    "# TRAIN Results\n",
    "y_train = y_train\n",
    "y_train_pred = ploy_reg.predict(poly_X_train)\n",
    "\n",
    "mae = metrics.mean_absolute_error(y_train, y_train_pred)\n",
    "mse = metrics.mean_squared_error(y_train, y_train_pred)\n",
    "rmse = np.sqrt(mse)  \n",
    "r2 = metrics.r2_score(y_train, y_train_pred)\n",
    "\n",
    "print(\"Results of sklearn.metrics:\")\n",
    "print(\"MAE:\",mae)\n",
    "print(\"MSE:\", mse)\n",
    "print(\"RMSE:\", rmse)\n",
    "print(\"R-Squared:\", r2)\n",
    "\n",
    "# Predicted TRAIN vs Actual Cases\n",
    "plt.plot(np.array(y_train))\n",
    "plt.plot(y_train_pred)\n",
    "plt.legend(['TRAIN Data', 'Poly Reg TRAIN Predictions'])"
   ]
  },
  {
   "cell_type": "code",
   "execution_count": 35,
   "metadata": {},
   "outputs": [
    {
     "data": {
      "text/plain": [
       "[Timestamp('2020-04-06 00:00:00', freq='D'),\n",
       " Timestamp('2020-04-07 00:00:00', freq='D'),\n",
       " Timestamp('2020-04-08 00:00:00', freq='D'),\n",
       " Timestamp('2020-04-09 00:00:00', freq='D'),\n",
       " Timestamp('2020-04-10 00:00:00', freq='D'),\n",
       " Timestamp('2020-04-11 00:00:00', freq='D'),\n",
       " Timestamp('2020-04-12 00:00:00', freq='D'),\n",
       " Timestamp('2020-04-13 00:00:00', freq='D'),\n",
       " Timestamp('2020-04-14 00:00:00', freq='D'),\n",
       " Timestamp('2020-04-15 00:00:00', freq='D')]"
      ]
     },
     "execution_count": 35,
     "metadata": {},
     "output_type": "execute_result"
    }
   ],
   "source": [
    "# Predictions for THESE 10 days\n",
    "datelist = pd.date_range(confirmed_df_usa['Date'].iloc[-1], periods=11).tolist()\n",
    "datelist = datelist[1:]\n",
    "datelist"
   ]
  },
  {
   "cell_type": "code",
   "execution_count": 36,
   "metadata": {},
   "outputs": [
    {
     "name": "stdout",
     "output_type": "stream",
     "text": [
      "COVID19 cases prediciton for next 10 days (starting March 27th): \n",
      " [354996, 399804, 448714, 501975, 559850, 622606, 690522, 763883, 842984, 928129]\n"
     ]
    },
    {
     "data": {
      "text/plain": [
       "<matplotlib.legend.Legend at 0x1a28543650>"
      ]
     },
     "execution_count": 36,
     "metadata": {},
     "output_type": "execute_result"
    },
    {
     "data": {
      "image/png": "[encoded data removed]",
      "text/plain": [
       "<Figure size 432x288 with 1 Axes>"
      ]
     },
     "metadata": {
      "needs_background": "light"
     },
     "output_type": "display_data"
    }
   ],
   "source": [
    "# FUTURE Results\n",
    "y_train = y_train\n",
    "future_y_pred = ploy_reg.predict(poly_future_forcast)\n",
    "pred_10days =  np.around(future_y_pred[-10:], decimals=0)\n",
    "pred_10days = list(itertools.chain(*pred_10days))\n",
    "pred_10days = list(map(int, pred_10days))\n",
    "print('COVID19 cases prediciton for next 10 days (starting March 27th): \\n', pred_10days)\n",
    "\n",
    "# Predicted Future Cases\n",
    "plt.plot(np.array(y_train))\n",
    "plt.plot(future_y_pred)\n",
    "plt.legend(['Actual TRAIN Data', 'Future 10 Days Predictions'])"
   ]
  },
  {
   "cell_type": "code",
   "execution_count": null,
   "metadata": {},
   "outputs": [],
   "source": []
  },
  {
   "cell_type": "code",
   "execution_count": 37,
   "metadata": {},
   "outputs": [],
   "source": [
    "# Get Standard Deviation of Prediction from TRAIN"
   ]
  },
  {
   "cell_type": "code",
   "execution_count": 38,
   "metadata": {},
   "outputs": [
    {
     "data": {
      "text/plain": [
       "(74, 1)"
      ]
     },
     "execution_count": 38,
     "metadata": {},
     "output_type": "execute_result"
    }
   ],
   "source": [
    "# Make TRAIN predictions\n",
    "y_train_pred = ploy_reg.predict(poly_X_train)\n",
    "y_train_pred_arr = np.array(y_train_pred)\n",
    "y_train_pred_df = pd.DataFrame(data = y_train_pred_arr.flatten())\n",
    "y_train_pred_df.shape"
   ]
  },
  {
   "cell_type": "code",
   "execution_count": 39,
   "metadata": {},
   "outputs": [
    {
     "data": {
      "text/plain": [
       "2139.938706282761"
      ]
     },
     "execution_count": 39,
     "metadata": {},
     "output_type": "execute_result"
    }
   ],
   "source": [
    "# Generate Standard Deviation of predictions from training data\n",
    "pred_stdev = np.sqrt(sum((y_train_pred_df[0] - y_train['Cases'])**2) / (len(y_train) - 2))\n",
    "pred_stdev"
   ]
  },
  {
   "cell_type": "code",
   "execution_count": null,
   "metadata": {},
   "outputs": [],
   "source": []
  },
  {
   "cell_type": "code",
   "execution_count": 40,
   "metadata": {},
   "outputs": [],
   "source": [
    "# Makr future prediciotn with CI"
   ]
  },
  {
   "cell_type": "code",
   "execution_count": 41,
   "metadata": {},
   "outputs": [
    {
     "data": {
      "text/plain": [
       "(85, 1)"
      ]
     },
     "execution_count": 41,
     "metadata": {},
     "output_type": "execute_result"
    }
   ],
   "source": [
    "# Make FUTURE predictions\n",
    "future_pred = ploy_reg.predict(poly_future_forcast)\n",
    "future_pred_arr = np.array(future_pred)\n",
    "future_pred_df = pd.DataFrame(data = future_pred_arr.flatten())\n",
    "future_pred_df = future_pred_df.rename(columns = {0: 'Cases_Pred'})\n",
    "future_pred_df.shape"
   ]
  },
  {
   "cell_type": "code",
   "execution_count": 42,
   "metadata": {},
   "outputs": [
    {
     "data": {
      "text/plain": [
       "(85, 3)"
      ]
     },
     "execution_count": 42,
     "metadata": {},
     "output_type": "execute_result"
    }
   ],
   "source": [
    "# Get UPPER & LOWER limit of CI \n",
    "future_pred_df['upper_ci'] = future_pred_df['Cases_Pred'] + 1.96*pred_stdev \n",
    "future_pred_df['lower_ci'] = future_pred_df['Cases_Pred'] - 1.96*pred_stdev\n",
    "future_pred_df.shape"
   ]
  },
  {
   "cell_type": "code",
   "execution_count": 43,
   "metadata": {},
   "outputs": [],
   "source": [
    "# Replace -ve predictions with 0 cases\n",
    "future_pred_df['lower_ci'] = np.where(future_pred_df['lower_ci'] < 0, 0, future_pred_df['lower_ci'])\n",
    "future_pred_df['Cases_Pred'] = np.where(future_pred_df['Cases_Pred'] < 0, 0, future_pred_df['Cases_Pred'])\n",
    "\n",
    "# limit float to 2 decimals cases\n",
    "future_pred_df = future_pred_df.round(decimals = 0)\n",
    "future_pred_df = future_pred_df.astype(int)\n",
    "future_pred_df = future_pred_df[1:]\n",
    "future_pred_df = future_pred_df.reset_index(drop = True)\n"
   ]
  },
  {
   "cell_type": "code",
   "execution_count": 44,
   "metadata": {},
   "outputs": [
    {
     "data": {
      "text/html": [
       "<div>\n",
       "<style scoped>\n",
       "    .dataframe tbody tr th:only-of-type {\n",
       "        vertical-align: middle;\n",
       "    }\n",
       "\n",
       "    .dataframe tbody tr th {\n",
       "        vertical-align: top;\n",
       "    }\n",
       "\n",
       "    .dataframe thead th {\n",
       "        text-align: right;\n",
       "    }\n",
       "</style>\n",
       "<table border=\"1\" class=\"dataframe\">\n",
       "  <thead>\n",
       "    <tr style=\"text-align: right;\">\n",
       "      <th></th>\n",
       "      <th>Date</th>\n",
       "      <th>Days_Since_Started</th>\n",
       "      <th>Actual_Cases</th>\n",
       "      <th>Cases_Pred</th>\n",
       "      <th>upper_ci</th>\n",
       "      <th>lower_ci</th>\n",
       "    </tr>\n",
       "  </thead>\n",
       "  <tbody>\n",
       "    <tr>\n",
       "      <th>66</th>\n",
       "      <td>2020-03-28</td>\n",
       "      <td>67</td>\n",
       "      <td>121478.0</td>\n",
       "      <td>116730</td>\n",
       "      <td>120924</td>\n",
       "      <td>112536</td>\n",
       "    </tr>\n",
       "    <tr>\n",
       "      <th>67</th>\n",
       "      <td>2020-03-29</td>\n",
       "      <td>68</td>\n",
       "      <td>140886.0</td>\n",
       "      <td>136786</td>\n",
       "      <td>140981</td>\n",
       "      <td>132592</td>\n",
       "    </tr>\n",
       "    <tr>\n",
       "      <th>68</th>\n",
       "      <td>2020-03-30</td>\n",
       "      <td>69</td>\n",
       "      <td>161807.0</td>\n",
       "      <td>159231</td>\n",
       "      <td>163425</td>\n",
       "      <td>155036</td>\n",
       "    </tr>\n",
       "    <tr>\n",
       "      <th>69</th>\n",
       "      <td>2020-03-31</td>\n",
       "      <td>70</td>\n",
       "      <td>188172.0</td>\n",
       "      <td>184248</td>\n",
       "      <td>188442</td>\n",
       "      <td>180054</td>\n",
       "    </tr>\n",
       "    <tr>\n",
       "      <th>70</th>\n",
       "      <td>2020-04-01</td>\n",
       "      <td>71</td>\n",
       "      <td>213372.0</td>\n",
       "      <td>212033</td>\n",
       "      <td>216227</td>\n",
       "      <td>207838</td>\n",
       "    </tr>\n",
       "    <tr>\n",
       "      <th>71</th>\n",
       "      <td>2020-04-02</td>\n",
       "      <td>72</td>\n",
       "      <td>243453.0</td>\n",
       "      <td>242786</td>\n",
       "      <td>246980</td>\n",
       "      <td>238591</td>\n",
       "    </tr>\n",
       "    <tr>\n",
       "      <th>72</th>\n",
       "      <td>2020-04-03</td>\n",
       "      <td>73</td>\n",
       "      <td>275586.0</td>\n",
       "      <td>276717</td>\n",
       "      <td>280911</td>\n",
       "      <td>272523</td>\n",
       "    </tr>\n",
       "    <tr>\n",
       "      <th>73</th>\n",
       "      <td>2020-04-04</td>\n",
       "      <td>74</td>\n",
       "      <td>308850.0</td>\n",
       "      <td>314045</td>\n",
       "      <td>318239</td>\n",
       "      <td>309851</td>\n",
       "    </tr>\n",
       "    <tr>\n",
       "      <th>74</th>\n",
       "      <td>2020-04-05</td>\n",
       "      <td>75</td>\n",
       "      <td>337072.0</td>\n",
       "      <td>354996</td>\n",
       "      <td>359190</td>\n",
       "      <td>350802</td>\n",
       "    </tr>\n",
       "    <tr>\n",
       "      <th>75</th>\n",
       "      <td>2020-04-06</td>\n",
       "      <td>76</td>\n",
       "      <td>NaN</td>\n",
       "      <td>399804</td>\n",
       "      <td>403999</td>\n",
       "      <td>395610</td>\n",
       "    </tr>\n",
       "    <tr>\n",
       "      <th>76</th>\n",
       "      <td>2020-04-07</td>\n",
       "      <td>77</td>\n",
       "      <td>NaN</td>\n",
       "      <td>448714</td>\n",
       "      <td>452908</td>\n",
       "      <td>444519</td>\n",
       "    </tr>\n",
       "    <tr>\n",
       "      <th>77</th>\n",
       "      <td>2020-04-08</td>\n",
       "      <td>78</td>\n",
       "      <td>NaN</td>\n",
       "      <td>501975</td>\n",
       "      <td>506170</td>\n",
       "      <td>497781</td>\n",
       "    </tr>\n",
       "    <tr>\n",
       "      <th>78</th>\n",
       "      <td>2020-04-09</td>\n",
       "      <td>79</td>\n",
       "      <td>NaN</td>\n",
       "      <td>559850</td>\n",
       "      <td>564044</td>\n",
       "      <td>555656</td>\n",
       "    </tr>\n",
       "    <tr>\n",
       "      <th>79</th>\n",
       "      <td>2020-04-10</td>\n",
       "      <td>80</td>\n",
       "      <td>NaN</td>\n",
       "      <td>622606</td>\n",
       "      <td>626801</td>\n",
       "      <td>618412</td>\n",
       "    </tr>\n",
       "    <tr>\n",
       "      <th>80</th>\n",
       "      <td>2020-04-11</td>\n",
       "      <td>81</td>\n",
       "      <td>NaN</td>\n",
       "      <td>690522</td>\n",
       "      <td>694716</td>\n",
       "      <td>686327</td>\n",
       "    </tr>\n",
       "    <tr>\n",
       "      <th>81</th>\n",
       "      <td>2020-04-12</td>\n",
       "      <td>82</td>\n",
       "      <td>NaN</td>\n",
       "      <td>763883</td>\n",
       "      <td>768077</td>\n",
       "      <td>759688</td>\n",
       "    </tr>\n",
       "    <tr>\n",
       "      <th>82</th>\n",
       "      <td>2020-04-13</td>\n",
       "      <td>83</td>\n",
       "      <td>NaN</td>\n",
       "      <td>842984</td>\n",
       "      <td>847178</td>\n",
       "      <td>838790</td>\n",
       "    </tr>\n",
       "    <tr>\n",
       "      <th>83</th>\n",
       "      <td>2020-04-14</td>\n",
       "      <td>84</td>\n",
       "      <td>NaN</td>\n",
       "      <td>928129</td>\n",
       "      <td>932323</td>\n",
       "      <td>923935</td>\n",
       "    </tr>\n",
       "  </tbody>\n",
       "</table>\n",
       "</div>"
      ],
      "text/plain": [
       "         Date  Days_Since_Started  Actual_Cases  Cases_Pred  upper_ci  \\\n",
       "66 2020-03-28                  67      121478.0      116730    120924   \n",
       "67 2020-03-29                  68      140886.0      136786    140981   \n",
       "68 2020-03-30                  69      161807.0      159231    163425   \n",
       "69 2020-03-31                  70      188172.0      184248    188442   \n",
       "70 2020-04-01                  71      213372.0      212033    216227   \n",
       "71 2020-04-02                  72      243453.0      242786    246980   \n",
       "72 2020-04-03                  73      275586.0      276717    280911   \n",
       "73 2020-04-04                  74      308850.0      314045    318239   \n",
       "74 2020-04-05                  75      337072.0      354996    359190   \n",
       "75 2020-04-06                  76           NaN      399804    403999   \n",
       "76 2020-04-07                  77           NaN      448714    452908   \n",
       "77 2020-04-08                  78           NaN      501975    506170   \n",
       "78 2020-04-09                  79           NaN      559850    564044   \n",
       "79 2020-04-10                  80           NaN      622606    626801   \n",
       "80 2020-04-11                  81           NaN      690522    694716   \n",
       "81 2020-04-12                  82           NaN      763883    768077   \n",
       "82 2020-04-13                  83           NaN      842984    847178   \n",
       "83 2020-04-14                  84           NaN      928129    932323   \n",
       "\n",
       "    lower_ci  \n",
       "66    112536  \n",
       "67    132592  \n",
       "68    155036  \n",
       "69    180054  \n",
       "70    207838  \n",
       "71    238591  \n",
       "72    272523  \n",
       "73    309851  \n",
       "74    350802  \n",
       "75    395610  \n",
       "76    444519  \n",
       "77    497781  \n",
       "78    555656  \n",
       "79    618412  \n",
       "80    686327  \n",
       "81    759688  \n",
       "82    838790  \n",
       "83    923935  "
      ]
     },
     "execution_count": 44,
     "metadata": {},
     "output_type": "execute_result"
    }
   ],
   "source": [
    "# Merge pred with original df \n",
    "final_df = confirmed_df_usa.merge(future_pred_df, \n",
    "                                  how='outer', \n",
    "                                  left_index=True, \n",
    "                                  right_index=True)\n",
    "\n",
    "#\n",
    "final_df = final_df.reset_index()\n",
    "final_df['Days_Since_Started'] = final_df['index'] + 1\n",
    "del final_df['index']\n",
    "del final_df['Month']\n",
    "del final_df['Date']\n",
    "\n",
    "# Generate date column\n",
    "date_list = pd.date_range(start='22/01/2020', periods = final_df.shape[0])\n",
    "date_list\n",
    "\n",
    "#\n",
    "final_df = final_df.set_index(date_list)\n",
    "final_df = final_df.reset_index()\n",
    "final_df = final_df.rename(columns =  {'index':'Date', \n",
    "                                      'Cases': 'Actual_Cases'})\n",
    "\n",
    "# Save predicitons \n",
    "final_df.to_csv('COVID_Predictions_USA.csv', encoding = 'UTF-8')\n",
    "\n",
    "#\n",
    "final_df.tail(18)"
   ]
  },
  {
   "cell_type": "code",
   "execution_count": null,
   "metadata": {},
   "outputs": [],
   "source": []
  },
  {
   "cell_type": "markdown",
   "metadata": {},
   "source": [
    "# PLOT"
   ]
  },
  {
   "cell_type": "code",
   "execution_count": 45,
   "metadata": {},
   "outputs": [
    {
     "data": {
      "text/plain": [
       "<matplotlib.legend.Legend at 0x1a285f4350>"
      ]
     },
     "execution_count": 45,
     "metadata": {},
     "output_type": "execute_result"
    },
    {
     "data": {
      "image/png": "[encoded data removed]",
      "text/plain": [
       "<Figure size 432x288 with 1 Axes>"
      ]
     },
     "metadata": {
      "needs_background": "light"
     },
     "output_type": "display_data"
    }
   ],
   "source": [
    "# Predicted TRAIN vs Actual Cases\n",
    "plt.plot(np.array(final_df['Actual_Cases']), 'r--')\n",
    "plt.plot(np.array(final_df['Cases_Pred']))\n",
    "plt.plot(np.array(final_df['upper_ci']))\n",
    "plt.plot(np.array(final_df['lower_ci']))\n",
    "\n",
    "plt.legend(['Actual_Cases', 'Cases_Pred', 'upper_ci', 'lower_ci' ])\n",
    "\n"
   ]
  },
  {
   "cell_type": "code",
   "execution_count": 46,
   "metadata": {},
   "outputs": [
    {
     "data": {
      "text/plain": [
       "Text(0, 0.5, '# of Cases')"
      ]
     },
     "execution_count": 46,
     "metadata": {},
     "output_type": "execute_result"
    },
    {
     "data": {
      "image/png": "[encoded data removed]",
      "text/plain": [
       "<Figure size 576x576 with 1 Axes>"
      ]
     },
     "metadata": {
      "needs_background": "light"
     },
     "output_type": "display_data"
    }
   ],
   "source": [
    "# Daily Cases\n",
    "confirmed_df_usa.groupby('Month')['Cases'].plot.bar(fontsize=10,\n",
    "                                                    figsize=(8,8))\n",
    "plt.title('Daily Confirmed Cases', size=8)\n",
    "plt.xlabel('# Days Since 1/22/2020', size=8)\n",
    "plt.ylabel('# of Cases', size=8)"
   ]
  },
  {
   "cell_type": "code",
   "execution_count": 47,
   "metadata": {},
   "outputs": [
    {
     "data": {
      "text/plain": [
       "<matplotlib.axes._subplots.AxesSubplot at 0x1a2889ae90>"
      ]
     },
     "execution_count": 47,
     "metadata": {},
     "output_type": "execute_result"
    },
    {
     "data": {
      "image/png": "[encoded data removed]",
      "text/plain": [
       "<Figure size 720x720 with 1 Axes>"
      ]
     },
     "metadata": {
      "needs_background": "light"
     },
     "output_type": "display_data"
    }
   ],
   "source": [
    "final_df[[\"Days_Since_Started\", 'Actual_Cases','Cases_Pred']].plot(x=\"Days_Since_Started\", \n",
    "                                                                   kind=\"bar\",\n",
    "                                                                   figsize=(10,10))\n"
   ]
  },
  {
   "cell_type": "code",
   "execution_count": null,
   "metadata": {},
   "outputs": [],
   "source": []
  },
  {
   "cell_type": "code",
   "execution_count": null,
   "metadata": {},
   "outputs": [],
   "source": []
  },
  {
   "cell_type": "code",
   "execution_count": null,
   "metadata": {},
   "outputs": [],
   "source": []
  },
  {
   "cell_type": "code",
   "execution_count": null,
   "metadata": {},
   "outputs": [],
   "source": []
  }
 ],
 "metadata": {
  "kernelspec": {
   "display_name": "Python 3",
   "language": "python",
   "name": "python3"
  },
  "language_info": {
   "codemirror_mode": {
    "name": "ipython",
    "version": 3
   },
   "file_extension": ".py",
   "mimetype": "text/x-python",
   "name": "python",
   "nbconvert_exporter": "python",
   "pygments_lexer": "ipython3",
   "version": "3.7.6"
  }
 },
 "nbformat": 4,
 "nbformat_minor": 4
}
